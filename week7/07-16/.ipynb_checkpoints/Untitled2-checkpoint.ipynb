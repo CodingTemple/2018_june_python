{
 "cells": [
  {
   "cell_type": "code",
   "execution_count": null,
   "metadata": {},
   "outputs": [],
   "source": [
    "import pandas as pd\n",
    "import numpy as np\n",
    "from sklearn import linear_model"
   ]
  },
  {
   "cell_type": "code",
   "execution_count": null,
   "metadata": {},
   "outputs": [],
   "source": [
    "data = pd.read_csv('FIFA 2018 Statistics.csv')\n",
    "data['Man of the Match'].apply(lambda x: True if \"Yes\" else False)\n",
    "data"
   ]
  },
  {
   "cell_type": "code",
   "execution_count": null,
   "metadata": {},
   "outputs": [],
   "source": [
    "#  Predict goal scored as a function of ball posession %\n",
    "y = data['Ball Possession %']\n",
    "x = data['Goal Scored']\n",
    "\n",
    "# Split data into training and testing to test if model is correct on data it hasn't seen\n",
    "x_train = x[:-20]\n",
    "x_test = x[-20:]\n",
    "\n",
    "y_train = x[:-20]\n",
    "y_test = x[-20:]\n",
    "\n",
    "# Initialize model class\n",
    "regr = linear_model.LinearRegresion()\n",
    "\n",
    "# Create trained model\n",
    "regr.fit(x_train, y_train)\n",
    "\n",
    "# Predicts new y values from test x values\n",
    "regr.predict(x_test)\n",
    "\n",
    "# Plot actual test data\n",
    "plt.scatter(x_test, y_test, color=\"black\")\n",
    "ply.scatter(x_test)"
   ]
  },
  {
   "cell_type": "code",
   "execution_count": null,
   "metadata": {},
   "outputs": [],
   "source": []
  }
 ],
 "metadata": {
  "kernelspec": {
   "display_name": "Python 3",
   "language": "python",
   "name": "python3"
  },
  "language_info": {
   "codemirror_mode": {
    "name": "ipython",
    "version": 3
   },
   "file_extension": ".py",
   "mimetype": "text/x-python",
   "name": "python",
   "nbconvert_exporter": "python",
   "pygments_lexer": "ipython3",
   "version": "3.6.4"
  }
 },
 "nbformat": 4,
 "nbformat_minor": 2
}
