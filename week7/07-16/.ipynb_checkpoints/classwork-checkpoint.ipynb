{
 "cells": [
  {
   "cell_type": "code",
   "execution_count": 25,
   "metadata": {},
   "outputs": [],
   "source": [
    "height_list = [72, 74, 65, 68]\n",
    "weight_list = [175, 155, 144, 123]"
   ]
  },
  {
   "cell_type": "code",
   "execution_count": 26,
   "metadata": {},
   "outputs": [
    {
     "ename": "NameError",
     "evalue": "name 'weight' is not defined",
     "output_type": "error",
     "traceback": [
      "\u001b[0;31m---------------------------------------------------------------------------\u001b[0m",
      "\u001b[0;31mNameError\u001b[0m                                 Traceback (most recent call last)",
      "\u001b[0;32m<ipython-input-26-04e0a0aa63a3>\u001b[0m in \u001b[0;36m<module>\u001b[0;34m()\u001b[0m\n\u001b[1;32m      1\u001b[0m \u001b[0;31m# Doesn't work the Pythonic way\u001b[0m\u001b[0;34m\u001b[0m\u001b[0;34m\u001b[0m\u001b[0m\n\u001b[0;32m----> 2\u001b[0;31m \u001b[0mweight\u001b[0m \u001b[0;34m/\u001b[0m \u001b[0mheight\u001b[0m \u001b[0;34m**\u001b[0m \u001b[0;36m2\u001b[0m\u001b[0;34m\u001b[0m\u001b[0m\n\u001b[0m",
      "\u001b[0;31mNameError\u001b[0m: name 'weight' is not defined"
     ]
    }
   ],
   "source": [
    "# Doesn't work the Pythonic way\n",
    "weight / height ** 2"
   ]
  },
  {
   "cell_type": "code",
   "execution_count": 27,
   "metadata": {},
   "outputs": [
    {
     "ename": "NameError",
     "evalue": "name 'weight' is not defined",
     "output_type": "error",
     "traceback": [
      "\u001b[0;31m---------------------------------------------------------------------------\u001b[0m",
      "\u001b[0;31mNameError\u001b[0m                                 Traceback (most recent call last)",
      "\u001b[0;32m<ipython-input-27-ed14499b30f3>\u001b[0m in \u001b[0;36m<module>\u001b[0;34m()\u001b[0m\n\u001b[1;32m      2\u001b[0m     \u001b[0;32mreturn\u001b[0m \u001b[0mw\u001b[0m \u001b[0;34m/\u001b[0m \u001b[0mh\u001b[0m \u001b[0;34m**\u001b[0m \u001b[0;36m2\u001b[0m\u001b[0;34m\u001b[0m\u001b[0m\n\u001b[1;32m      3\u001b[0m \u001b[0;34m\u001b[0m\u001b[0m\n\u001b[0;32m----> 4\u001b[0;31m \u001b[0mlist\u001b[0m\u001b[0;34m(\u001b[0m\u001b[0mmap\u001b[0m\u001b[0;34m(\u001b[0m\u001b[0mcalc_bmi\u001b[0m\u001b[0;34m,\u001b[0m \u001b[0mweight\u001b[0m\u001b[0;34m,\u001b[0m \u001b[0mheight\u001b[0m\u001b[0;34m)\u001b[0m\u001b[0;34m)\u001b[0m\u001b[0;34m\u001b[0m\u001b[0m\n\u001b[0m",
      "\u001b[0;31mNameError\u001b[0m: name 'weight' is not defined"
     ]
    }
   ],
   "source": [
    "def calc_bmi(w, h):\n",
    "    return w / h ** 2\n",
    "\n",
    "list(map(calc_bmi, weight, height))"
   ]
  },
  {
   "cell_type": "code",
   "execution_count": 28,
   "metadata": {},
   "outputs": [],
   "source": [
    "import numpy as np"
   ]
  },
  {
   "cell_type": "code",
   "execution_count": 29,
   "metadata": {},
   "outputs": [],
   "source": [
    "np_height = np.array(height_list)\n",
    "np_weight = np.array(weight_list)"
   ]
  },
  {
   "cell_type": "code",
   "execution_count": 30,
   "metadata": {},
   "outputs": [
    {
     "data": {
      "text/plain": [
       "array([33.75771605, 28.30533236, 34.08284024, 26.60034602])"
      ]
     },
     "execution_count": 30,
     "metadata": {},
     "output_type": "execute_result"
    }
   ],
   "source": [
    "bmi = np_weight / np_height ** 2 * 1000\n",
    "bmi"
   ]
  },
  {
   "cell_type": "code",
   "execution_count": 31,
   "metadata": {},
   "outputs": [
    {
     "data": {
      "text/plain": [
       "array(['1', 'string', 'True'], dtype='<U21')"
      ]
     },
     "execution_count": 31,
     "metadata": {},
     "output_type": "execute_result"
    }
   ],
   "source": [
    "np.array([1, 'string', True])"
   ]
  },
  {
   "cell_type": "code",
   "execution_count": 32,
   "metadata": {},
   "outputs": [
    {
     "data": {
      "text/plain": [
       "[72, 74, 65, 68, 175, 155, 144, 123]"
      ]
     },
     "execution_count": 32,
     "metadata": {},
     "output_type": "execute_result"
    }
   ],
   "source": [
    "height_list + weight_list"
   ]
  },
  {
   "cell_type": "code",
   "execution_count": 33,
   "metadata": {},
   "outputs": [
    {
     "data": {
      "text/plain": [
       "array([247, 229, 209, 191])"
      ]
     },
     "execution_count": 33,
     "metadata": {},
     "output_type": "execute_result"
    }
   ],
   "source": [
    "np_weight + np_height"
   ]
  },
  {
   "cell_type": "code",
   "execution_count": 34,
   "metadata": {},
   "outputs": [
    {
     "data": {
      "text/plain": [
       "array([2, 4, 6])"
      ]
     },
     "execution_count": 34,
     "metadata": {},
     "output_type": "execute_result"
    }
   ],
   "source": [
    "new_array = np.array([1, 2, 3])\n",
    "new_array + new_array"
   ]
  },
  {
   "cell_type": "code",
   "execution_count": 35,
   "metadata": {},
   "outputs": [
    {
     "data": {
      "text/plain": [
       "28.305332359386412"
      ]
     },
     "execution_count": 35,
     "metadata": {},
     "output_type": "execute_result"
    }
   ],
   "source": [
    "bmi[1]"
   ]
  },
  {
   "cell_type": "code",
   "execution_count": 36,
   "metadata": {},
   "outputs": [
    {
     "data": {
      "text/plain": [
       "array([ True, False,  True, False])"
      ]
     },
     "execution_count": 36,
     "metadata": {},
     "output_type": "execute_result"
    }
   ],
   "source": [
    "bmi > 30"
   ]
  },
  {
   "cell_type": "code",
   "execution_count": 37,
   "metadata": {
    "scrolled": true
   },
   "outputs": [
    {
     "data": {
      "text/plain": [
       "array([33.75771605, 34.08284024])"
      ]
     },
     "execution_count": 37,
     "metadata": {},
     "output_type": "execute_result"
    }
   ],
   "source": [
    "bmi[bmi > 30]"
   ]
  },
  {
   "cell_type": "markdown",
   "metadata": {},
   "source": [
    "## 2D Arrays"
   ]
  },
  {
   "cell_type": "code",
   "execution_count": 38,
   "metadata": {},
   "outputs": [
    {
     "data": {
      "text/plain": [
       "array([[ 1,  9,  3,  8,  8,  4,  4, 10,  5,  5],\n",
       "       [ 9, 10,  0, 10,  5,  4,  7,  3,  2,  8]])"
      ]
     },
     "execution_count": 38,
     "metadata": {},
     "output_type": "execute_result"
    }
   ],
   "source": [
    "import random\n",
    "\n",
    "np_2d = np.array(([random.randint(0, 10) for i in range(0, 10)],\n",
    "                [random.randint(0, 10) for i in range(0, 10)]))\n",
    "\n",
    "np_2d"
   ]
  },
  {
   "cell_type": "code",
   "execution_count": 39,
   "metadata": {},
   "outputs": [
    {
     "data": {
      "text/plain": [
       "(2, 10)"
      ]
     },
     "execution_count": 39,
     "metadata": {},
     "output_type": "execute_result"
    }
   ],
   "source": [
    "np_2d.shape"
   ]
  },
  {
   "cell_type": "code",
   "execution_count": 40,
   "metadata": {},
   "outputs": [],
   "source": [
    "x = np.array([\n",
    "    [28, 82],\n",
    "    [24, 42],\n",
    "    [12, 21],\n",
    "    [65, 65],\n",
    "    [90, 9]\n",
    "])"
   ]
  },
  {
   "cell_type": "code",
   "execution_count": 41,
   "metadata": {},
   "outputs": [
    {
     "data": {
      "text/plain": [
       "43.8"
      ]
     },
     "execution_count": 41,
     "metadata": {},
     "output_type": "execute_result"
    }
   ],
   "source": [
    "np.mean(x[:, 1])"
   ]
  },
  {
   "cell_type": "code",
   "execution_count": 42,
   "metadata": {},
   "outputs": [
    {
     "data": {
      "text/plain": [
       "55.0"
      ]
     },
     "execution_count": 42,
     "metadata": {},
     "output_type": "execute_result"
    }
   ],
   "source": [
    "np.mean(x[0, :])"
   ]
  },
  {
   "cell_type": "markdown",
   "metadata": {},
   "source": [
    "# Analyzing Data"
   ]
  },
  {
   "cell_type": "markdown",
   "metadata": {},
   "source": [
    "## 1. Get the data"
   ]
  },
  {
   "cell_type": "code",
   "execution_count": 43,
   "metadata": {},
   "outputs": [
    {
     "ename": "FileNotFoundError",
     "evalue": "[Errno 2] No such file or directory: 'stuff.json'",
     "output_type": "error",
     "traceback": [
      "\u001b[0;31m---------------------------------------------------------------------------\u001b[0m",
      "\u001b[0;31mFileNotFoundError\u001b[0m                         Traceback (most recent call last)",
      "\u001b[0;32m<ipython-input-43-8b20227bdc99>\u001b[0m in \u001b[0;36m<module>\u001b[0;34m()\u001b[0m\n\u001b[1;32m      1\u001b[0m \u001b[0;32mimport\u001b[0m \u001b[0mjson\u001b[0m\u001b[0;34m\u001b[0m\u001b[0m\n\u001b[1;32m      2\u001b[0m \u001b[0;34m\u001b[0m\u001b[0m\n\u001b[0;32m----> 3\u001b[0;31m \u001b[0;32mwith\u001b[0m \u001b[0mopen\u001b[0m\u001b[0;34m(\u001b[0m\u001b[0;34m\"stuff.json\"\u001b[0m\u001b[0;34m,\u001b[0m \u001b[0;34m'rb'\u001b[0m\u001b[0;34m)\u001b[0m \u001b[0;32mas\u001b[0m \u001b[0mf\u001b[0m\u001b[0;34m:\u001b[0m\u001b[0;34m\u001b[0m\u001b[0m\n\u001b[0m\u001b[1;32m      4\u001b[0m     \u001b[0mdata\u001b[0m \u001b[0;34m=\u001b[0m \u001b[0mjson\u001b[0m\u001b[0;34m.\u001b[0m\u001b[0mload\u001b[0m\u001b[0;34m(\u001b[0m\u001b[0mf\u001b[0m\u001b[0;34m)\u001b[0m\u001b[0;34m\u001b[0m\u001b[0m\n\u001b[1;32m      5\u001b[0m \u001b[0;34m\u001b[0m\u001b[0m\n",
      "\u001b[0;31mFileNotFoundError\u001b[0m: [Errno 2] No such file or directory: 'stuff.json'"
     ]
    }
   ],
   "source": [
    "import json\n",
    "\n",
    "with open(\"stuff.json\", 'rb') as f:\n",
    "    data = json.load(f)\n",
    "    \n",
    "data['1']['stuff']"
   ]
  },
  {
   "cell_type": "code",
   "execution_count": 44,
   "metadata": {},
   "outputs": [
    {
     "data": {
      "text/plain": [
       "OrderedDict([('account_key', '448'),\n",
       "             ('status', 'canceled'),\n",
       "             ('join_date', '2014-11-10'),\n",
       "             ('cancel_date', '2015-01-14'),\n",
       "             ('days_to_cancel', '65'),\n",
       "             ('is_enrolled', 'True'),\n",
       "             ('is_canceled', 'True')])"
      ]
     },
     "execution_count": 44,
     "metadata": {},
     "output_type": "execute_result"
    }
   ],
   "source": [
    "import unicodecsv\n",
    "\n",
    "enrollments = []\n",
    "# f = open('enrollments.csv', 'rb')\n",
    "# reader = unicodecsv.DictReader(f)\n",
    "# for i in reader:\n",
    "#     enrollments.append(i)\n",
    "# f.close()\n",
    "\n",
    "# Automatically closes the file\n",
    "with open('enrollments.csv', 'rb') as f:\n",
    "    reader = unicodecsv.DictReader(f)\n",
    "    enrollments = list(reader)\n",
    "\n",
    "enrollments[0]"
   ]
  },
  {
   "cell_type": "code",
   "execution_count": 45,
   "metadata": {},
   "outputs": [
    {
     "data": {
      "text/plain": [
       "OrderedDict([('acct', '0'),\n",
       "             ('utc_date', '2015-01-09'),\n",
       "             ('num_courses_visited', '1.0'),\n",
       "             ('total_minutes_visited', '11.6793745'),\n",
       "             ('lessons_completed', '0.0'),\n",
       "             ('projects_completed', '0.0')])"
      ]
     },
     "execution_count": 45,
     "metadata": {},
     "output_type": "execute_result"
    }
   ],
   "source": [
    "engagements = []\n",
    "with open('student_engagement.csv', 'rb') as f:\n",
    "    reader = unicodecsv.DictReader(f)\n",
    "    engagements = list(reader)\n",
    "    \n",
    "engagements[0]"
   ]
  },
  {
   "cell_type": "code",
   "execution_count": 46,
   "metadata": {},
   "outputs": [
    {
     "data": {
      "text/plain": [
       "OrderedDict([('creation_date', '2015-01-14'),\n",
       "             ('completion_date', '2015-01-16'),\n",
       "             ('assigned_rating', 'UNGRADED'),\n",
       "             ('account_key', '256'),\n",
       "             ('lesson_key', '3176718735'),\n",
       "             ('processing_state', 'EVALUATED')])"
      ]
     },
     "execution_count": 46,
     "metadata": {},
     "output_type": "execute_result"
    }
   ],
   "source": [
    "submissions = []\n",
    "with open('submissions.csv', 'rb') as f:\n",
    "    reader = unicodecsv.DictReader(f)\n",
    "    submissions = list(reader)\n",
    "\n",
    "submissions[0]"
   ]
  },
  {
   "cell_type": "markdown",
   "metadata": {},
   "source": [
    "## 2. Cleaning the Data"
   ]
  },
  {
   "cell_type": "code",
   "execution_count": 47,
   "metadata": {},
   "outputs": [],
   "source": [
    "# fix date types\n",
    "\n",
    "from datetime import datetime as dt\n",
    "\n",
    "def convert_date(date):\n",
    "    if date == '':\n",
    "        return None\n",
    "    else:\n",
    "        return dt.strptime(date, '%Y-%m-%d')\n",
    "    \n",
    "def convert_int(integer):\n",
    "    if integer == '':\n",
    "        return None\n",
    "    else:\n",
    "        return int(integer)"
   ]
  },
  {
   "cell_type": "code",
   "execution_count": 48,
   "metadata": {},
   "outputs": [],
   "source": [
    "for e in enrollments:\n",
    "    e['join_date'] = convert_date(e['join_date'])\n",
    "    e['cancel_date'] = convert_date(e['cancel_date'])\n",
    "    e['days_to_cancel'] = convert_int(e['days_to_cancel'])\n",
    "    e['is_enrolled'] = e['is_enrolled'] == str(True)\n",
    "    e['is_canceled'] = e['is_canceled'] == str(True)"
   ]
  },
  {
   "cell_type": "code",
   "execution_count": 49,
   "metadata": {},
   "outputs": [
    {
     "data": {
      "text/plain": [
       "OrderedDict([('account_key', '448'),\n",
       "             ('status', 'canceled'),\n",
       "             ('join_date', datetime.datetime(2015, 1, 27, 0, 0)),\n",
       "             ('cancel_date', datetime.datetime(2015, 1, 27, 0, 0)),\n",
       "             ('days_to_cancel', 0),\n",
       "             ('is_enrolled', True),\n",
       "             ('is_canceled', True)])"
      ]
     },
     "execution_count": 49,
     "metadata": {},
     "output_type": "execute_result"
    }
   ],
   "source": [
    "enrollments[2]"
   ]
  },
  {
   "cell_type": "code",
   "execution_count": 50,
   "metadata": {},
   "outputs": [],
   "source": [
    "for e in engagements:\n",
    "    e['utc_date'] = convert_date(e['utc_date'])\n",
    "    e['num_courses_visited'] = int(float(e['num_courses_visited']))\n",
    "    e['lessons_completed'] = int(float(e['lessons_completed']))\n",
    "    e['projects_completed'] = int(float(e['projects_completed']))\n",
    "    e['total_minutes_visited'] = float(e['total_minutes_visited'])"
   ]
  },
  {
   "cell_type": "code",
   "execution_count": 51,
   "metadata": {},
   "outputs": [
    {
     "data": {
      "text/plain": [
       "OrderedDict([('acct', '0'),\n",
       "             ('utc_date', datetime.datetime(2015, 1, 13, 0, 0)),\n",
       "             ('num_courses_visited', 1),\n",
       "             ('total_minutes_visited', 64.7796776667),\n",
       "             ('lessons_completed', 0),\n",
       "             ('projects_completed', 0)])"
      ]
     },
     "execution_count": 51,
     "metadata": {},
     "output_type": "execute_result"
    }
   ],
   "source": [
    "engagements[4]"
   ]
  },
  {
   "cell_type": "code",
   "execution_count": 52,
   "metadata": {},
   "outputs": [],
   "source": [
    "for s in submissions:\n",
    "    s['creation_date'] = convert_date(s['creation_date'])\n",
    "    s['completion_date'] = convert_date(s['completion_date'])"
   ]
  },
  {
   "cell_type": "code",
   "execution_count": 53,
   "metadata": {},
   "outputs": [
    {
     "data": {
      "text/plain": [
       "OrderedDict([('creation_date', datetime.datetime(2015, 2, 17, 0, 0)),\n",
       "             ('completion_date', datetime.datetime(2015, 3, 3, 0, 0)),\n",
       "             ('assigned_rating', 'INCOMPLETE'),\n",
       "             ('account_key', '434'),\n",
       "             ('lesson_key', '3176718735'),\n",
       "             ('processing_state', 'EVALUATED')])"
      ]
     },
     "execution_count": 53,
     "metadata": {},
     "output_type": "execute_result"
    }
   ],
   "source": [
    "submissions[4]"
   ]
  },
  {
   "cell_type": "code",
   "execution_count": 54,
   "metadata": {},
   "outputs": [
    {
     "data": {
      "text/plain": [
       "1640"
      ]
     },
     "execution_count": 54,
     "metadata": {},
     "output_type": "execute_result"
    }
   ],
   "source": [
    "len(enrollments)"
   ]
  },
  {
   "cell_type": "code",
   "execution_count": 55,
   "metadata": {},
   "outputs": [
    {
     "data": {
      "text/plain": [
       "136240"
      ]
     },
     "execution_count": 55,
     "metadata": {},
     "output_type": "execute_result"
    }
   ],
   "source": [
    "len(engagements)"
   ]
  },
  {
   "cell_type": "code",
   "execution_count": 56,
   "metadata": {},
   "outputs": [],
   "source": [
    "# Run this only once!\n",
    "# Change the engagements['acct'] to engagements['account_key']\n",
    "\n",
    "# for e in engagements:\n",
    "#     e['account_key'] = e['acct']\n",
    "#     del[e['acct']]"
   ]
  },
  {
   "cell_type": "code",
   "execution_count": 57,
   "metadata": {},
   "outputs": [],
   "source": [
    "# Using DRY principles, create a function to get unique data across\n",
    "# all data sets\n",
    "\n",
    "def unique_info(data):\n",
    "    unique_info = set()\n",
    "    for i in data:\n",
    "        unique_info.add(i['account_key'])\n",
    "    return unique_info"
   ]
  },
  {
   "cell_type": "code",
   "execution_count": 59,
   "metadata": {},
   "outputs": [
    {
     "ename": "KeyError",
     "evalue": "'account_key'",
     "output_type": "error",
     "traceback": [
      "\u001b[0;31m---------------------------------------------------------------------------\u001b[0m",
      "\u001b[0;31mKeyError\u001b[0m                                  Traceback (most recent call last)",
      "\u001b[0;32m<ipython-input-59-e1a8ace93c2f>\u001b[0m in \u001b[0;36m<module>\u001b[0;34m()\u001b[0m\n\u001b[0;32m----> 1\u001b[0;31m \u001b[0mprint\u001b[0m\u001b[0;34m(\u001b[0m\u001b[0;34mf\"Unique engagements: {len(unique_info(engagements))}\"\u001b[0m\u001b[0;34m)\u001b[0m\u001b[0;34m\u001b[0m\u001b[0m\n\u001b[0m\u001b[1;32m      2\u001b[0m \u001b[0mprint\u001b[0m\u001b[0;34m(\u001b[0m\u001b[0;34mf\"Unique enrollments: {len(unique_info(enrollments))}\"\u001b[0m\u001b[0;34m)\u001b[0m\u001b[0;34m\u001b[0m\u001b[0m\n\u001b[1;32m      3\u001b[0m \u001b[0mprint\u001b[0m\u001b[0;34m(\u001b[0m\u001b[0;34mf\"Unique submissions: {len(unique_info(submissions))}\"\u001b[0m\u001b[0;34m)\u001b[0m\u001b[0;34m\u001b[0m\u001b[0m\n",
      "\u001b[0;32m<ipython-input-57-bcd0c0241f96>\u001b[0m in \u001b[0;36munique_info\u001b[0;34m(data)\u001b[0m\n\u001b[1;32m      5\u001b[0m     \u001b[0munique_info\u001b[0m \u001b[0;34m=\u001b[0m \u001b[0mset\u001b[0m\u001b[0;34m(\u001b[0m\u001b[0;34m)\u001b[0m\u001b[0;34m\u001b[0m\u001b[0m\n\u001b[1;32m      6\u001b[0m     \u001b[0;32mfor\u001b[0m \u001b[0mi\u001b[0m \u001b[0;32min\u001b[0m \u001b[0mdata\u001b[0m\u001b[0;34m:\u001b[0m\u001b[0;34m\u001b[0m\u001b[0m\n\u001b[0;32m----> 7\u001b[0;31m         \u001b[0munique_info\u001b[0m\u001b[0;34m.\u001b[0m\u001b[0madd\u001b[0m\u001b[0;34m(\u001b[0m\u001b[0mi\u001b[0m\u001b[0;34m[\u001b[0m\u001b[0;34m'account_key'\u001b[0m\u001b[0;34m]\u001b[0m\u001b[0;34m)\u001b[0m\u001b[0;34m\u001b[0m\u001b[0m\n\u001b[0m\u001b[1;32m      8\u001b[0m     \u001b[0;32mreturn\u001b[0m \u001b[0munique_info\u001b[0m\u001b[0;34m\u001b[0m\u001b[0m\n",
      "\u001b[0;31mKeyError\u001b[0m: 'account_key'"
     ]
    }
   ],
   "source": [
    "print(f\"Unique engagements: {len(unique_info(engagements))}\")\n",
    "print(f\"Unique enrollments: {len(unique_info(enrollments))}\")\n",
    "print(f\"Unique submissions: {len(unique_info(submissions))}\")"
   ]
  },
  {
   "cell_type": "code",
   "execution_count": 60,
   "metadata": {},
   "outputs": [
    {
     "ename": "KeyError",
     "evalue": "'account_key'",
     "output_type": "error",
     "traceback": [
      "\u001b[0;31m---------------------------------------------------------------------------\u001b[0m",
      "\u001b[0;31mKeyError\u001b[0m                                  Traceback (most recent call last)",
      "\u001b[0;32m<ipython-input-60-08e2b966e6ed>\u001b[0m in \u001b[0;36m<module>\u001b[0;34m()\u001b[0m\n\u001b[1;32m      1\u001b[0m \u001b[0;31m# More unique enrollments than there are engagements\u001b[0m\u001b[0;34m\u001b[0m\u001b[0;34m\u001b[0m\u001b[0m\n\u001b[0;32m----> 2\u001b[0;31m \u001b[0mlen\u001b[0m\u001b[0;34m(\u001b[0m\u001b[0munique_info\u001b[0m\u001b[0;34m(\u001b[0m\u001b[0menrollments\u001b[0m\u001b[0;34m)\u001b[0m\u001b[0;34m)\u001b[0m \u001b[0;34m-\u001b[0m \u001b[0mlen\u001b[0m\u001b[0;34m(\u001b[0m\u001b[0munique_info\u001b[0m\u001b[0;34m(\u001b[0m\u001b[0mengagements\u001b[0m\u001b[0;34m)\u001b[0m\u001b[0;34m)\u001b[0m\u001b[0;34m\u001b[0m\u001b[0m\n\u001b[0m\u001b[1;32m      3\u001b[0m \u001b[0;31m# list(unique_)\u001b[0m\u001b[0;34m\u001b[0m\u001b[0;34m\u001b[0m\u001b[0m\n",
      "\u001b[0;32m<ipython-input-57-bcd0c0241f96>\u001b[0m in \u001b[0;36munique_info\u001b[0;34m(data)\u001b[0m\n\u001b[1;32m      5\u001b[0m     \u001b[0munique_info\u001b[0m \u001b[0;34m=\u001b[0m \u001b[0mset\u001b[0m\u001b[0;34m(\u001b[0m\u001b[0;34m)\u001b[0m\u001b[0;34m\u001b[0m\u001b[0m\n\u001b[1;32m      6\u001b[0m     \u001b[0;32mfor\u001b[0m \u001b[0mi\u001b[0m \u001b[0;32min\u001b[0m \u001b[0mdata\u001b[0m\u001b[0;34m:\u001b[0m\u001b[0;34m\u001b[0m\u001b[0m\n\u001b[0;32m----> 7\u001b[0;31m         \u001b[0munique_info\u001b[0m\u001b[0;34m.\u001b[0m\u001b[0madd\u001b[0m\u001b[0;34m(\u001b[0m\u001b[0mi\u001b[0m\u001b[0;34m[\u001b[0m\u001b[0;34m'account_key'\u001b[0m\u001b[0;34m]\u001b[0m\u001b[0;34m)\u001b[0m\u001b[0;34m\u001b[0m\u001b[0m\n\u001b[0m\u001b[1;32m      8\u001b[0m     \u001b[0;32mreturn\u001b[0m \u001b[0munique_info\u001b[0m\u001b[0;34m\u001b[0m\u001b[0m\n",
      "\u001b[0;31mKeyError\u001b[0m: 'account_key'"
     ]
    }
   ],
   "source": [
    "# More unique enrollments than there are engagements\n",
    "len(unique_info(enrollments)) - len(unique_info(engagements))\n",
    "# list(unique_)"
   ]
  },
  {
   "cell_type": "code",
   "execution_count": 246,
   "metadata": {},
   "outputs": [
    {
     "data": {
      "text/plain": [
       "1548"
      ]
     },
     "execution_count": 246,
     "metadata": {},
     "output_type": "execute_result"
    }
   ],
   "source": [
    "# num of students who were active longer than a day\n",
    "num_students = 0\n",
    "for i in range(len(enrollments)):\n",
    "    if enrollments[i]['join_date'] != enrollments[i]['cancel_date']:\n",
    "        num_students += 1\n",
    "    \n",
    "num_students"
   ]
  },
  {
   "cell_type": "code",
   "execution_count": 276,
   "metadata": {},
   "outputs": [
    {
     "data": {
      "text/plain": [
       "574"
      ]
     },
     "execution_count": 276,
     "metadata": {},
     "output_type": "execute_result"
    }
   ],
   "source": [
    "# Find how many people who remained active for longer than 7 days\n",
    "num_people = 0\n",
    "for e in enrollments:\n",
    "    if e['days_to_cancel'] is not None and e['days_to_cancel'] > 7:\n",
    "        num_people+=1\n",
    "\n",
    "num_people"
   ]
  },
  {
   "cell_type": "code",
   "execution_count": 304,
   "metadata": {},
   "outputs": [
    {
     "name": "stdout",
     "output_type": "stream",
     "text": [
      "Less than 7 days: 374\n",
      "More than 7 days: 574\n",
      "Average of students active longer than 7 days: 0\n"
     ]
    }
   ],
   "source": [
    "# Find average amount of people who remain active for longer than 7 days\n",
    "under_7 = []\n",
    "above_7 = []\n",
    "for e in enrollments:\n",
    "    if e['days_to_cancel'] is not None and e['days_to_cancel'] < 7:\n",
    "        under_7.append(e['days_to_cancel'])\n",
    "    if e['days_to_cancel'] is not None and e['days_to_cancel'] > 7:\n",
    "        above_7.append(e['days_to_cancel'])\n",
    "under_7 = len(under_7)\n",
    "print(f\"Less than 7 days: {under_7}\")\n",
    "above_7 = len(above_7)\n",
    "print(f\"More than 7 days: {above_7}\")\n",
    "average = above_7 // (under_7 + above_7)\n",
    "print(f\"Average of students active longer than 7 days: {average}\")"
   ]
  },
  {
   "cell_type": "code",
   "execution_count": 278,
   "metadata": {},
   "outputs": [
    {
     "data": {
      "text/plain": [
       "{'1304',\n",
       " '18',\n",
       " '743',\n",
       " '706',\n",
       " '1190',\n",
       " '1289',\n",
       " '1118',\n",
       " '977',\n",
       " '1233',\n",
       " '917',\n",
       " '1009',\n",
       " '664',\n",
       " '667',\n",
       " '897',\n",
       " '380',\n",
       " '284',\n",
       " '1229',\n",
       " '1159',\n",
       " '391',\n",
       " '425',\n",
       " '248',\n",
       " '15',\n",
       " '1255',\n",
       " '328',\n",
       " '472',\n",
       " '1274',\n",
       " '82',\n",
       " '254',\n",
       " '1130',\n",
       " '97',\n",
       " '124',\n",
       " '1177',\n",
       " '85',\n",
       " '67',\n",
       " '639',\n",
       " '944',\n",
       " '1061',\n",
       " '412',\n",
       " '1111',\n",
       " '244',\n",
       " '397',\n",
       " '629',\n",
       " '896',\n",
       " '441',\n",
       " '125',\n",
       " '607',\n",
       " '462',\n",
       " '353',\n",
       " '950',\n",
       " '912',\n",
       " '394',\n",
       " '1022',\n",
       " '122',\n",
       " '222',\n",
       " '266',\n",
       " '713',\n",
       " '344',\n",
       " '1273',\n",
       " '260',\n",
       " '592',\n",
       " '103',\n",
       " '204',\n",
       " '347',\n",
       " '181',\n",
       " '825',\n",
       " '697',\n",
       " '894',\n",
       " '510',\n",
       " '418',\n",
       " '497',\n",
       " '778',\n",
       " '999',\n",
       " '1049',\n",
       " '798',\n",
       " '882',\n",
       " '180',\n",
       " '603',\n",
       " '522',\n",
       " '131',\n",
       " '1035',\n",
       " '651',\n",
       " '573',\n",
       " '1281',\n",
       " '1235',\n",
       " '226',\n",
       " '1213',\n",
       " '571',\n",
       " '77',\n",
       " '837',\n",
       " '268',\n",
       " '1194',\n",
       " '630',\n",
       " '982',\n",
       " '990',\n",
       " '58',\n",
       " '238',\n",
       " '155',\n",
       " '118',\n",
       " '453',\n",
       " '429',\n",
       " '1045',\n",
       " '1180',\n",
       " '146',\n",
       " '148',\n",
       " '1046',\n",
       " '733',\n",
       " '362',\n",
       " '403',\n",
       " '741',\n",
       " '488',\n",
       " '737',\n",
       " '1104',\n",
       " '947',\n",
       " '626',\n",
       " '363',\n",
       " '4',\n",
       " '1231',\n",
       " '300',\n",
       " '24',\n",
       " '30',\n",
       " '376',\n",
       " '305',\n",
       " '773',\n",
       " '680',\n",
       " '880',\n",
       " '277',\n",
       " '308',\n",
       " '589',\n",
       " '1129',\n",
       " '59',\n",
       " '593',\n",
       " '1217',\n",
       " '3',\n",
       " '1042',\n",
       " '674',\n",
       " '715',\n",
       " '351',\n",
       " '945',\n",
       " '919',\n",
       " '561',\n",
       " '151',\n",
       " '703',\n",
       " '532',\n",
       " '1116',\n",
       " '460',\n",
       " '971',\n",
       " '905',\n",
       " '223',\n",
       " '367',\n",
       " '923',\n",
       " '475',\n",
       " '117',\n",
       " '719',\n",
       " '1064',\n",
       " '215',\n",
       " '845',\n",
       " '508',\n",
       " '848',\n",
       " '658',\n",
       " '432',\n",
       " '906',\n",
       " '203',\n",
       " '1023',\n",
       " '836',\n",
       " '192',\n",
       " '234',\n",
       " '10',\n",
       " '159',\n",
       " '994',\n",
       " '851',\n",
       " '91',\n",
       " '572',\n",
       " '1256',\n",
       " '959',\n",
       " '1077',\n",
       " '236',\n",
       " '375',\n",
       " '214',\n",
       " '755',\n",
       " '1237',\n",
       " '966',\n",
       " '628',\n",
       " '531',\n",
       " '383',\n",
       " '916',\n",
       " '239',\n",
       " '326',\n",
       " '278',\n",
       " '1148',\n",
       " '346',\n",
       " '113',\n",
       " '1181',\n",
       " '364',\n",
       " '473',\n",
       " '413',\n",
       " '1029',\n",
       " '953',\n",
       " '434',\n",
       " '1088',\n",
       " '504',\n",
       " '1234',\n",
       " '444',\n",
       " '1085',\n",
       " '291',\n",
       " '279',\n",
       " '265',\n",
       " '255',\n",
       " '1032',\n",
       " '52',\n",
       " '1238',\n",
       " '591',\n",
       " '1228',\n",
       " '433',\n",
       " '163',\n",
       " '716',\n",
       " '553',\n",
       " '687',\n",
       " '986',\n",
       " '915',\n",
       " '580',\n",
       " '21',\n",
       " '1058',\n",
       " '930',\n",
       " '415',\n",
       " '332',\n",
       " '502',\n",
       " '246',\n",
       " '677',\n",
       " '892',\n",
       " '1251',\n",
       " '969',\n",
       " '1098',\n",
       " '528',\n",
       " '267',\n",
       " '829',\n",
       " '167',\n",
       " '9',\n",
       " '983',\n",
       " '202',\n",
       " '126',\n",
       " '842',\n",
       " '558',\n",
       " '764',\n",
       " '468',\n",
       " '690',\n",
       " '1300',\n",
       " '992',\n",
       " '396',\n",
       " '355',\n",
       " '974',\n",
       " '440',\n",
       " '325',\n",
       " '770',\n",
       " '742',\n",
       " '1066',\n",
       " '1204',\n",
       " '619',\n",
       " '533',\n",
       " '133',\n",
       " '1301',\n",
       " '1038',\n",
       " '457',\n",
       " '964',\n",
       " '750',\n",
       " '515',\n",
       " '785',\n",
       " '631',\n",
       " '1158',\n",
       " '802',\n",
       " '611',\n",
       " '911',\n",
       " '759',\n",
       " '684',\n",
       " '711',\n",
       " '261',\n",
       " '437',\n",
       " '401',\n",
       " '445',\n",
       " '1302',\n",
       " '931',\n",
       " '0',\n",
       " '609',\n",
       " '888',\n",
       " '1178',\n",
       " '570',\n",
       " '162',\n",
       " '54',\n",
       " '196',\n",
       " '1276',\n",
       " '272',\n",
       " '92',\n",
       " '588',\n",
       " '841',\n",
       " '539',\n",
       " '1072',\n",
       " '1197',\n",
       " '793',\n",
       " '812',\n",
       " '110',\n",
       " '694',\n",
       " '37',\n",
       " '815',\n",
       " '1034',\n",
       " '99',\n",
       " '1036',\n",
       " '1288',\n",
       " '311',\n",
       " '869',\n",
       " '1000',\n",
       " '1071',\n",
       " '584',\n",
       " '503',\n",
       " '645',\n",
       " '323',\n",
       " '525',\n",
       " '1122',\n",
       " '872',\n",
       " '1105',\n",
       " '556',\n",
       " '168',\n",
       " '111',\n",
       " '1084',\n",
       " '1131',\n",
       " '898',\n",
       " '521',\n",
       " '435',\n",
       " '357',\n",
       " '373',\n",
       " '885',\n",
       " '292',\n",
       " '1243',\n",
       " '119',\n",
       " '866',\n",
       " '967',\n",
       " '385',\n",
       " '498',\n",
       " '382',\n",
       " '686',\n",
       " '524',\n",
       " '145',\n",
       " '218',\n",
       " '788',\n",
       " '1039',\n",
       " '939',\n",
       " '143',\n",
       " '439',\n",
       " '1283',\n",
       " '71',\n",
       " '1079',\n",
       " '514',\n",
       " '1048',\n",
       " '1187',\n",
       " '98',\n",
       " '960',\n",
       " '43',\n",
       " '949',\n",
       " '816',\n",
       " '293',\n",
       " '1241',\n",
       " '1113',\n",
       " '968',\n",
       " '574',\n",
       " '1240',\n",
       " '696',\n",
       " '809',\n",
       " '169',\n",
       " '1141',\n",
       " '438',\n",
       " '176',\n",
       " '1260',\n",
       " '123',\n",
       " '417',\n",
       " '807',\n",
       " '981',\n",
       " '197',\n",
       " '775',\n",
       " '771',\n",
       " '1110',\n",
       " '1144',\n",
       " '1176',\n",
       " '907',\n",
       " '256',\n",
       " '657',\n",
       " '962',\n",
       " '596',\n",
       " '90',\n",
       " '1174',\n",
       " '1133',\n",
       " '161',\n",
       " '486',\n",
       " '712',\n",
       " '62',\n",
       " '731',\n",
       " '929',\n",
       " '16',\n",
       " '463',\n",
       " '1047',\n",
       " '761',\n",
       " '286',\n",
       " '1173',\n",
       " '20',\n",
       " '348',\n",
       " '762',\n",
       " '458',\n",
       " '39',\n",
       " '330',\n",
       " '1087',\n",
       " '212',\n",
       " '523',\n",
       " '648',\n",
       " '855',\n",
       " '1232',\n",
       " '5',\n",
       " '450',\n",
       " '536',\n",
       " '654',\n",
       " '100',\n",
       " '229',\n",
       " '852',\n",
       " '316',\n",
       " '946',\n",
       " '2',\n",
       " '443',\n",
       " '26',\n",
       " '581',\n",
       " '338',\n",
       " '831',\n",
       " '186',\n",
       " '1203',\n",
       " '1093',\n",
       " '817',\n",
       " '577',\n",
       " '615',\n",
       " '813',\n",
       " '853',\n",
       " '481',\n",
       " '134',\n",
       " '821',\n",
       " '921',\n",
       " '519',\n",
       " '708',\n",
       " '602',\n",
       " '258',\n",
       " '245',\n",
       " '1201',\n",
       " '1115',\n",
       " '655',\n",
       " '147',\n",
       " '844',\n",
       " '997',\n",
       " '1139',\n",
       " '1196',\n",
       " '891',\n",
       " '302',\n",
       " '1245',\n",
       " '877',\n",
       " '879',\n",
       " '1155',\n",
       " '600',\n",
       " '587',\n",
       " '208',\n",
       " '1097',\n",
       " '179',\n",
       " '1267',\n",
       " '942',\n",
       " '1091',\n",
       " '1016',\n",
       " '787',\n",
       " '557',\n",
       " '827',\n",
       " '365',\n",
       " '154',\n",
       " '1030',\n",
       " '970',\n",
       " '752',\n",
       " '767',\n",
       " '408',\n",
       " '895',\n",
       " '1216',\n",
       " '1272',\n",
       " '924',\n",
       " '881',\n",
       " '640',\n",
       " '142',\n",
       " '656',\n",
       " '507',\n",
       " '138',\n",
       " '594',\n",
       " '115',\n",
       " '1044',\n",
       " '1008',\n",
       " '1286',\n",
       " '93',\n",
       " '763',\n",
       " '1247',\n",
       " '121',\n",
       " '184',\n",
       " '542',\n",
       " '1054',\n",
       " '1236',\n",
       " '1253',\n",
       " '1186',\n",
       " '1109',\n",
       " '209',\n",
       " '575',\n",
       " '442',\n",
       " '1153',\n",
       " '275',\n",
       " '704',\n",
       " '483',\n",
       " '1167',\n",
       " '469',\n",
       " '963',\n",
       " '420',\n",
       " '948',\n",
       " '753',\n",
       " '940',\n",
       " '675',\n",
       " '1121',\n",
       " '774',\n",
       " '157',\n",
       " '127',\n",
       " '47',\n",
       " '797',\n",
       " '339',\n",
       " '259',\n",
       " '579',\n",
       " '1208',\n",
       " '310',\n",
       " '335',\n",
       " '83',\n",
       " '219',\n",
       " '40',\n",
       " '198',\n",
       " '465',\n",
       " '405',\n",
       " '838',\n",
       " '632',\n",
       " '772',\n",
       " '153',\n",
       " '1183',\n",
       " '1027',\n",
       " '336',\n",
       " '1020',\n",
       " '87',\n",
       " '914',\n",
       " '253',\n",
       " '1224',\n",
       " '1223',\n",
       " '74',\n",
       " '216',\n",
       " '283',\n",
       " '1218',\n",
       " '909',\n",
       " '237',\n",
       " '672',\n",
       " '409',\n",
       " '918',\n",
       " '407',\n",
       " '1068',\n",
       " '1175',\n",
       " '23',\n",
       " '1258',\n",
       " '422',\n",
       " '1037',\n",
       " '878',\n",
       " '665',\n",
       " '1293',\n",
       " '1107',\n",
       " '756',\n",
       " '1123',\n",
       " '1062',\n",
       " '1291',\n",
       " '601',\n",
       " '679',\n",
       " '14',\n",
       " '1189',\n",
       " '644',\n",
       " '544',\n",
       " '513',\n",
       " '1221',\n",
       " '1076',\n",
       " '17',\n",
       " '1134',\n",
       " '501',\n",
       " '188',\n",
       " '356',\n",
       " '1082',\n",
       " '707',\n",
       " '318',\n",
       " '1137',\n",
       " '957',\n",
       " '670',\n",
       " '193',\n",
       " '1193',\n",
       " '605',\n",
       " '1028',\n",
       " '217',\n",
       " '748',\n",
       " '653',\n",
       " '220',\n",
       " '1056',\n",
       " '320',\n",
       " '101',\n",
       " '1117',\n",
       " '185',\n",
       " '938',\n",
       " '228',\n",
       " '1207',\n",
       " '1138',\n",
       " '1295',\n",
       " '381',\n",
       " '135',\n",
       " '350',\n",
       " '1249',\n",
       " '170',\n",
       " '1275',\n",
       " '19',\n",
       " '779',\n",
       " '1154',\n",
       " '1219',\n",
       " '695',\n",
       " '803',\n",
       " '109',\n",
       " '550',\n",
       " '1102',\n",
       " '183',\n",
       " '972',\n",
       " '537',\n",
       " '137',\n",
       " '190',\n",
       " '89',\n",
       " '1150',\n",
       " '447',\n",
       " '887',\n",
       " '456',\n",
       " '471',\n",
       " '81',\n",
       " '451',\n",
       " '683',\n",
       " '527',\n",
       " '466',\n",
       " '436',\n",
       " '988',\n",
       " '800',\n",
       " '908',\n",
       " '299',\n",
       " '388',\n",
       " '175',\n",
       " '597',\n",
       " '1059',\n",
       " '725',\n",
       " '273',\n",
       " '1160',\n",
       " '649',\n",
       " '400',\n",
       " '729',\n",
       " '549',\n",
       " '480',\n",
       " '823',\n",
       " '927',\n",
       " '1147',\n",
       " '1252',\n",
       " '560',\n",
       " '306',\n",
       " '27',\n",
       " '22',\n",
       " '194',\n",
       " '511',\n",
       " '491',\n",
       " '543',\n",
       " '225',\n",
       " '646',\n",
       " '1078',\n",
       " '1070',\n",
       " '495',\n",
       " '935',\n",
       " '41',\n",
       " '1290',\n",
       " '309',\n",
       " '765',\n",
       " '506',\n",
       " '1220',\n",
       " '1128',\n",
       " '333',\n",
       " '172',\n",
       " '884',\n",
       " '494',\n",
       " '688',\n",
       " '979',\n",
       " '431',\n",
       " '80',\n",
       " '104',\n",
       " '799',\n",
       " '663',\n",
       " '903',\n",
       " '57',\n",
       " '224',\n",
       " '1199',\n",
       " '144',\n",
       " '984',\n",
       " '1041',\n",
       " '334',\n",
       " '337',\n",
       " '404',\n",
       " '1161',\n",
       " '1120',\n",
       " '987',\n",
       " '1006',\n",
       " '1270',\n",
       " '662',\n",
       " '1222',\n",
       " '943',\n",
       " '56',\n",
       " '479',\n",
       " '786',\n",
       " '863',\n",
       " '1011',\n",
       " '820',\n",
       " '794',\n",
       " '264',\n",
       " '1026',\n",
       " '726',\n",
       " '870',\n",
       " '659',\n",
       " '955',\n",
       " '499',\n",
       " '1226',\n",
       " '427',\n",
       " '840',\n",
       " '1264',\n",
       " '685',\n",
       " '811',\n",
       " '489',\n",
       " '424',\n",
       " '319',\n",
       " '477',\n",
       " '727',\n",
       " '623',\n",
       " '724',\n",
       " '744',\n",
       " '757',\n",
       " '324',\n",
       " '547',\n",
       " '1135',\n",
       " '241',\n",
       " '28',\n",
       " '1132',\n",
       " '676',\n",
       " '500',\n",
       " '31',\n",
       " '647',\n",
       " '559',\n",
       " '1162',\n",
       " '782',\n",
       " '578',\n",
       " '51',\n",
       " '857',\n",
       " '700',\n",
       " '69',\n",
       " '517',\n",
       " '965',\n",
       " '1294',\n",
       " '484',\n",
       " '377',\n",
       " '1010',\n",
       " '993',\n",
       " '920',\n",
       " '129',\n",
       " '282',\n",
       " '1075',\n",
       " '668',\n",
       " '1225',\n",
       " '35',\n",
       " '900',\n",
       " '313',\n",
       " '1124',\n",
       " '784',\n",
       " '102',\n",
       " '414',\n",
       " '372',\n",
       " '1057',\n",
       " '1215',\n",
       " '682',\n",
       " '114',\n",
       " '1157',\n",
       " '1227',\n",
       " '954',\n",
       " '998',\n",
       " '1192',\n",
       " '1063',\n",
       " '747',\n",
       " '149',\n",
       " '627',\n",
       " '598',\n",
       " '141',\n",
       " '617',\n",
       " '846',\n",
       " '105',\n",
       " '476',\n",
       " '1165',\n",
       " '1284',\n",
       " '1152',\n",
       " '482',\n",
       " '1112',\n",
       " '1017',\n",
       " '492',\n",
       " '317',\n",
       " '806',\n",
       " '710',\n",
       " '410',\n",
       " '1184',\n",
       " '112',\n",
       " '199',\n",
       " '1246',\n",
       " '371',\n",
       " '187',\n",
       " '11',\n",
       " '980',\n",
       " '1198',\n",
       " '73',\n",
       " '75',\n",
       " '824',\n",
       " '174',\n",
       " '150',\n",
       " '951',\n",
       " '106',\n",
       " '678',\n",
       " '251',\n",
       " '182',\n",
       " '1188',\n",
       " '612',\n",
       " '1021',\n",
       " '96',\n",
       " '833',\n",
       " '378',\n",
       " '86',\n",
       " '1074',\n",
       " '262',\n",
       " '361',\n",
       " '889',\n",
       " '406',\n",
       " '1005',\n",
       " '792',\n",
       " '875',\n",
       " '1292',\n",
       " '860',\n",
       " '1211',\n",
       " '1254',\n",
       " '620',\n",
       " '25',\n",
       " '1015',\n",
       " '1',\n",
       " '635',\n",
       " '1244',\n",
       " '973',\n",
       " '1143',\n",
       " '1099',\n",
       " '810',\n",
       " '446',\n",
       " '568',\n",
       " '1019',\n",
       " '49',\n",
       " '1296',\n",
       " '702',\n",
       " '604',\n",
       " '721',\n",
       " '402',\n",
       " '297',\n",
       " '206',\n",
       " '1043',\n",
       " '1164',\n",
       " '530',\n",
       " '618',\n",
       " '850',\n",
       " '140',\n",
       " '551',\n",
       " '564',\n",
       " '509',\n",
       " '1136',\n",
       " '691',\n",
       " '1297',\n",
       " '84',\n",
       " '783',\n",
       " '776',\n",
       " '1103',\n",
       " '430',\n",
       " '1202',\n",
       " '360',\n",
       " '1146',\n",
       " '240',\n",
       " '166',\n",
       " '314',\n",
       " '345',\n",
       " '160',\n",
       " '754',\n",
       " '758',\n",
       " '622',\n",
       " '735',\n",
       " '243',\n",
       " '63',\n",
       " '108',\n",
       " '211',\n",
       " '1151',\n",
       " '541',\n",
       " '65',\n",
       " '961',\n",
       " '233',\n",
       " '768',\n",
       " '1126',\n",
       " '902',\n",
       " '398',\n",
       " '44',\n",
       " '322',\n",
       " '985',\n",
       " '296',\n",
       " '205',\n",
       " '315',\n",
       " '730',\n",
       " '496',\n",
       " '1261',\n",
       " '331',\n",
       " '1298',\n",
       " '389',\n",
       " '359',\n",
       " '1014',\n",
       " '699',\n",
       " '158',\n",
       " '1092',\n",
       " '213',\n",
       " '1081',\n",
       " '230',\n",
       " '673',\n",
       " '370',\n",
       " '1156',\n",
       " '868',\n",
       " '200',\n",
       " '1257',\n",
       " '164',\n",
       " '709',\n",
       " '1012',\n",
       " '78',\n",
       " '796',\n",
       " '1067',\n",
       " '766',\n",
       " '301',\n",
       " '801',\n",
       " '616',\n",
       " '760',\n",
       " '290',\n",
       " '634',\n",
       " '922',\n",
       " '1127',\n",
       " '671',\n",
       " '116',\n",
       " '1195',\n",
       " '736',\n",
       " '934',\n",
       " '340',\n",
       " '449',\n",
       " '289',\n",
       " '913',\n",
       " '595',\n",
       " '641',\n",
       " '1002',\n",
       " '270',\n",
       " '847',\n",
       " '1206',\n",
       " '608',\n",
       " '428',\n",
       " '652',\n",
       " '257',\n",
       " '734',\n",
       " '288',\n",
       " '996',\n",
       " '426',\n",
       " '512',\n",
       " '252',\n",
       " '235',\n",
       " '705',\n",
       " '529',\n",
       " '643',\n",
       " '46',\n",
       " '1266',\n",
       " '790',\n",
       " '826',\n",
       " '738',\n",
       " '1119',\n",
       " '461',\n",
       " '545',\n",
       " '1305',\n",
       " '540',\n",
       " '1106',\n",
       " '740',\n",
       " '1303',\n",
       " '107',\n",
       " '354',\n",
       " '201',\n",
       " '995',\n",
       " '156',\n",
       " ...}"
      ]
     },
     "execution_count": 278,
     "metadata": {},
     "output_type": "execute_result"
    }
   ],
   "source": [
    "unique_info(enrollments)"
   ]
  }
 ],
 "metadata": {
  "kernelspec": {
   "display_name": "Python 3",
   "language": "python",
   "name": "python3"
  },
  "language_info": {
   "codemirror_mode": {
    "name": "ipython",
    "version": 3
   },
   "file_extension": ".py",
   "mimetype": "text/x-python",
   "name": "python",
   "nbconvert_exporter": "python",
   "pygments_lexer": "ipython3",
   "version": "3.6.4"
  }
 },
 "nbformat": 4,
 "nbformat_minor": 2
}
