{
 "cells": [
  {
   "cell_type": "code",
   "execution_count": 43,
   "metadata": {},
   "outputs": [
    {
     "data": {
      "image/png": "[encoded data removed]",
      "text/plain": [
       "<Figure size 432x288 with 1 Axes>"
      ]
     },
     "metadata": {},
     "output_type": "display_data"
    }
   ],
   "source": [
    "import pandas as pd\n",
    "import matplotlib.pyplot as plt\n",
    "import numpy as np\n",
    "from sklearn import linear_model\n",
    "from sklearn.metrics import mean_squared_error, r2_score\n",
    "\n",
    "# Would like to predict Goal scored as a function of Ball Possession %\n",
    "\n",
    "df = pd.read_csv(\"FIFA 2018 Statistics.csv\")\n",
    "x = df[\"Ball Possession %\"].values\n",
    "y = df[\"Goal Scored\"].values\n",
    "\n",
    "# We split data into training and testing so that we can test if our model\n",
    "# is correct on data it hasn't seen in training\n",
    "x_train = x[:-20]\n",
    "x_test = x[-20:]\n",
    "\n",
    "y_train = y[:-20]\n",
    "y_test = y[-20:]\n",
    "\n",
    "# Initializes model class\n",
    "regr = linear_model.LinearRegression()\n",
    "\n",
    "# Creates trained model\n",
    "# x_train.reshape(-1,1) == [x.train] \n",
    "regr.fit(x_train.reshape(-1,1), y_train.reshape(-1,1))\n",
    "\n",
    "# Predicts new y values from test x values\n",
    "y_hat = regr.predict(x_test.reshape(-1,1))\n",
    "\n",
    "\n",
    "# Plot actual test data\n",
    "plt.scatter(x_test, y_test, color=\"black\")\n",
    "# Plot predicted y_hat values\n",
    "# If you want to use KNN regression, use plt.scatter not plt.plot\n",
    "plt.plot(x_test, y_hat, color=\"pink\", linewidth=3)\n",
    "\n",
    "plt.show()"
   ]
  },
  {
   "cell_type": "code",
   "execution_count": null,
   "metadata": {},
   "outputs": [],
   "source": []
  },
  {
   "cell_type": "code",
   "execution_count": null,
   "metadata": {},
   "outputs": [],
   "source": []
  }
 ],
 "metadata": {
  "kernelspec": {
   "display_name": "Python 3",
   "language": "python",
   "name": "python3"
  },
  "language_info": {
   "codemirror_mode": {
    "name": "ipython",
    "version": 3
   },
   "file_extension": ".py",
   "mimetype": "text/x-python",
   "name": "python",
   "nbconvert_exporter": "python",
   "pygments_lexer": "ipython3",
   "version": "3.6.5"
  }
 },
 "nbformat": 4,
 "nbformat_minor": 2
}
