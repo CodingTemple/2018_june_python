{
 "cells": [
  {
   "cell_type": "code",
   "execution_count": 5,
   "metadata": {},
   "outputs": [],
   "source": [
    "from IPython.display import clear_output\n",
    "from collections import Counter\n",
    "\n",
    "class Item:\n",
    "    def __init__(self, name):\n",
    "        self.name = name\n",
    "        self.quantity = 1\n",
    "        \n",
    "    def __str__(self):\n",
    "        return f\"<Item: {self.name}>\"\n",
    "    \n",
    "    def __repr__(self):\n",
    "        return f\"Item({self.name})\"\n",
    "    \n",
    "class Cart:\n",
    "    def __init__(self, items=[]):\n",
    "        if items is None:\n",
    "            self.items = []\n",
    "        else:\n",
    "            self.items = items\n",
    "            \n",
    "    def add(self, item):\n",
    "        if item not in self.items:\n",
    "            self.items.append(item)\n",
    "        else:\n",
    "            Item.self.quantity += 1\n",
    "            \n",
    "    def show(self, items):\n",
    "        \n",
    "    \n",
    "def instructions():\n",
    "    print(\"\"\"Type 'ADD' to add item\n",
    "Type 'REMOVE' to remove item\n",
    "Type 'SHOW' your list of items\n",
    "Type 'CLEAR' to clear all items from cart\n",
    "Type 'DONE' if you are done adding items\"\"\")\n",
    "\n",
    "def main():\n",
    "    while True:\n",
    "        query = input(\"What would you like to do? \")\n",
    "        if query == 'ADD'.lower():\n",
    "            query = input(\"Add an item to your shopping cart... \")\n",
    "            clear_output()\n",
    "            Cart.items.append(query)\n",
    "            continue\n",
    "        if query == 'REMOVE'.lower():\n",
    "            continue\n",
    "        if query == 'CLEAR'.lower():\n",
    "            continue\n",
    "        if query == 'SHOW'.lower():\n",
    "            clear_output()\n",
    "            for k, v in Counter(Cart.items)\n",
    "            continue\n",
    "        if query == 'DONE'.lower():\n",
    "            break"
   ]
  },
  {
   "cell_type": "code",
   "execution_count": null,
   "metadata": {},
   "outputs": [],
   "source": []
  }
 ],
 "metadata": {
  "kernelspec": {
   "display_name": "Python 3",
   "language": "python",
   "name": "python3"
  },
  "language_info": {
   "codemirror_mode": {
    "name": "ipython",
    "version": 3
   },
   "file_extension": ".py",
   "mimetype": "text/x-python",
   "name": "python",
   "nbconvert_exporter": "python",
   "pygments_lexer": "ipython3",
   "version": "3.6.4"
  }
 },
 "nbformat": 4,
 "nbformat_minor": 2
}
