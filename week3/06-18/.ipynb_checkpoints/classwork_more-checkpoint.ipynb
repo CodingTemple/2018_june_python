{
 "cells": [
  {
   "cell_type": "markdown",
   "metadata": {},
   "source": [
    "# Property Decorators - getters, setters, deleters"
   ]
  },
  {
   "cell_type": "code",
   "execution_count": 28,
   "metadata": {},
   "outputs": [],
   "source": [
    "class Employee:\n",
    "    def __init__(self, first, last, pay):\n",
    "        self.first = first\n",
    "        self.last = last\n",
    "        self.pay = pay\n",
    "    \n",
    "    @property\n",
    "    def email(self): # getter\n",
    "        return f\"{self.first}.{self.last}@codingtemple.com\".lower()\n",
    "    \n",
    "    @property\n",
    "    def fullName(self): # getter\n",
    "        return f\"{self.first} {self.last}\"\n",
    "    \n",
    "    @fullName.setter\n",
    "    def fullName(self, name):\n",
    "        first, last = name.split(\" \")\n",
    "        self.first = first\n",
    "        self.last = last\n",
    "        \n",
    "    @fullName.deleter\n",
    "    def fullName(self):\n",
    "        print(\"Delete Name\")\n",
    "        self.first = None\n",
    "        self.last = None"
   ]
  },
  {
   "cell_type": "code",
   "execution_count": 29,
   "metadata": {},
   "outputs": [
    {
     "name": "stdout",
     "output_type": "stream",
     "text": [
      "Derek\n",
      "derek.hawkins@codingtemple.com\n",
      "Derek Hawkins\n"
     ]
    }
   ],
   "source": [
    "emp_1 = Employee(\"Derek\", \"Hawkins\", 160000)\n",
    "print(emp_1.first)\n",
    "print(emp_1.email)\n",
    "print(emp_1.fullName)"
   ]
  },
  {
   "cell_type": "code",
   "execution_count": 30,
   "metadata": {},
   "outputs": [
    {
     "name": "stdout",
     "output_type": "stream",
     "text": [
      "martin.lawrence@codingtemple.com\n",
      "Martin Lawrence\n"
     ]
    }
   ],
   "source": [
    "emp_1.fullName  = \"Martin Lawrence\"\n",
    "\n",
    "print(emp_1.email) # does not get most current self.first attribute\n",
    "print(emp_1.fullName) # gets most current self.first attribute"
   ]
  },
  {
   "cell_type": "code",
   "execution_count": 31,
   "metadata": {},
   "outputs": [
    {
     "name": "stdout",
     "output_type": "stream",
     "text": [
      "Delete Name\n"
     ]
    }
   ],
   "source": [
    "del emp_1.fullName"
   ]
  }
 ],
 "metadata": {
  "kernelspec": {
   "display_name": "Python 3",
   "language": "python",
   "name": "python3"
  },
  "language_info": {
   "codemirror_mode": {
    "name": "ipython",
    "version": 3
   },
   "file_extension": ".py",
   "mimetype": "text/x-python",
   "name": "python",
   "nbconvert_exporter": "python",
   "pygments_lexer": "ipython3",
   "version": "3.6.4"
  }
 },
 "nbformat": 4,
 "nbformat_minor": 2
}
