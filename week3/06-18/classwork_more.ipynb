{
 "cells": [
  {
   "cell_type": "markdown",
   "metadata": {},
   "source": [
    "# Property Decorators - getters, setters, deleters"
   ]
  },
  {
   "cell_type": "code",
   "execution_count": 32,
   "metadata": {},
   "outputs": [],
   "source": [
    "class Employee:\n",
    "    def __init__(self, first, last, pay):\n",
    "        self.first = first\n",
    "        self.last = last\n",
    "        self.pay = pay\n",
    "    \n",
    "    @property\n",
    "    def email(self): # getter\n",
    "        return f\"{self.first}.{self.last}@codingtemple.com\".lower()\n",
    "    \n",
    "    @property\n",
    "    def fullName(self): # getter\n",
    "        return f\"{self.first} {self.last}\"\n",
    "    \n",
    "    @fullName.setter\n",
    "    def fullName(self, name):\n",
    "        first, last = name.split(\" \")\n",
    "        self.first = first\n",
    "        self.last = last\n",
    "        \n",
    "    @fullName.deleter\n",
    "    def fullName(self):\n",
    "        print(\"Delete Name\")\n",
    "        self.first = None\n",
    "        self.last = None"
   ]
  },
  {
   "cell_type": "code",
   "execution_count": 33,
   "metadata": {},
   "outputs": [
    {
     "name": "stdout",
     "output_type": "stream",
     "text": [
      "Derek\n",
      "derek.hawkins@codingtemple.com\n",
      "Derek Hawkins\n"
     ]
    }
   ],
   "source": [
    "emp_1 = Employee(\"Derek\", \"Hawkins\", 160000)\n",
    "print(emp_1.first)\n",
    "print(emp_1.email)\n",
    "print(emp_1.fullName)"
   ]
  },
  {
   "cell_type": "code",
   "execution_count": 34,
   "metadata": {},
   "outputs": [
    {
     "name": "stdout",
     "output_type": "stream",
     "text": [
      "martin.lawrence@codingtemple.com\n",
      "Martin Lawrence\n"
     ]
    }
   ],
   "source": [
    "emp_1.fullName  = \"Martin Lawrence\"\n",
    "\n",
    "print(emp_1.email) # does not get most current self.first attribute\n",
    "print(emp_1.fullName) # gets most current self.first attribute"
   ]
  },
  {
   "cell_type": "code",
   "execution_count": 35,
   "metadata": {},
   "outputs": [
    {
     "name": "stdout",
     "output_type": "stream",
     "text": [
      "Delete Name\n"
     ]
    }
   ],
   "source": [
    "del emp_1.fullName"
   ]
  },
  {
   "cell_type": "code",
   "execution_count": 37,
   "metadata": {},
   "outputs": [],
   "source": [
    "def draw_map(player):\n",
    "    print(' _'*5)\n",
    "    tile='|{}'\n",
    "    for cell in CELLS:\n",
    "        x, y=cell\n",
    "        if x < 4:\n",
    "            line_end=''\n",
    "            if cell==player:\n",
    "                output=tile.format('X')\n",
    "            else:\n",
    "                output=tile.format('_')\n",
    "        else:\n",
    "            line_end='\\n'\n",
    "            if cell==player:\n",
    "                output=tile.format('X|')\n",
    "            else:\n",
    "                output=tile.format('_|')\n",
    "        print(output,end=line_end)\n"
   ]
  },
  {
   "cell_type": "code",
   "execution_count": null,
   "metadata": {
    "scrolled": true
   },
   "outputs": [
    {
     "name": "stdout",
     "output_type": "stream",
     "text": [
      "To begin, hit ENTER!\n",
      " _ _ _ _ _\n",
      "|_|_|_|_|_|\n",
      "|_|_|_|_|_|\n",
      "|_|_|_|_|_|\n",
      "|_|_|_|_|_|\n",
      "|_|_|X|_|_|\n",
      "You are currently in room (2, 4)\n",
      "You can move RIGHT,LEFT,UP\n",
      "Enter Q/q to quit the game\n"
     ]
    }
   ],
   "source": [
    "#draw grid\n",
    "# pick the random location for player\n",
    "#pick the random location for door\n",
    "#pick the random location for monster\n",
    "#draw player in the grid\n",
    "#take input movement\n",
    "#move player , unless invalid move (pass edge of grid)\n",
    "#check win or loss\n",
    "#redraw the grid \n",
    "import os\n",
    "import random\n",
    "CELLS=[(0,0),(1,0),(2,0),(3,0),(4,0),\n",
    "       (0,1),(1,1),(2,1),(3,1),(4,1),\n",
    "       (0,2),(1,2),(2,2),(3,2),(4,2),\n",
    "       (0,3),(1,3),(2,3),(3,3),(4,3),\n",
    "       (0,4),(1,4),(2,4),(3,4),(4,4),\n",
    "      ]\n",
    "\n",
    "def clear():\n",
    "    os.system('cls' if os.name=='nt' else 'clear')\n",
    "def get_location():\n",
    "    return random.sample(CELLS,3)\n",
    "\n",
    "\n",
    "def move_player(player,move):\n",
    "    x,y=player\n",
    "    if move=='LEFT':\n",
    "        x=x-1\n",
    "    if move =='RIGHT':\n",
    "        x=x+1\n",
    "    if move =='UP':\n",
    "        y=y-1\n",
    "    if move == 'DOWN':\n",
    "        y=y+1\n",
    "    return x,y \n",
    "    #get the player location\n",
    "    #if move left x-1\n",
    "    #if move right x+1\n",
    "    #if move up y+1\n",
    "    #if move down y-1\n",
    "\n",
    "    return player\n",
    "\n",
    "def get_moves(player):\n",
    "    moves=['RIGHT','LEFT','UP','DOWN']\n",
    "    x,y=player\n",
    "    if x==0:\n",
    "        moves.remove('LEFT')\n",
    "    if x==4:\n",
    "        moves.remove('RIGHT')\n",
    "    if y==0:\n",
    "        moves.remove('UP')\n",
    "    if y==4:\n",
    "        moves.remove('DOWN')\n",
    "    #if player's y==0,they can't moveup\n",
    "    #if player's y==4. they can't move down\n",
    "    #if player's x==0, they can't move left\n",
    "    # if player's x==4, they can't move right\n",
    "    return moves\n",
    "def draw_map(player):\n",
    "    print(' _'*5)\n",
    "    tile='|{}'\n",
    "    for cell in CELLS:\n",
    "        x, y=cell\n",
    "        if x < 4:\n",
    "            line_end=''\n",
    "            if cell==player:\n",
    "                output=tile.format('X')\n",
    "            else:\n",
    "                output=tile.format('_')\n",
    "        else:\n",
    "            line_end='\\n'\n",
    "            if cell==player:\n",
    "                output=tile.format('X|')\n",
    "            else:\n",
    "                output=tile.format('_|')\n",
    "        print(output,end=line_end)\n",
    "\n",
    "def game_loop():\n",
    "    monster,door,player= get_location()\n",
    "    while True:\n",
    "        draw_map(player)\n",
    "        valid_move=get_moves(player)\n",
    "\n",
    "        print('You are currently in room {}'.format(player)) #fill the player position\n",
    "        print('You can move {}'.format(','.join(valid_move))) # valid move\n",
    "        print('Enter Q/q to quit the game')\n",
    "\n",
    "        move=input('>').upper()\n",
    "        if move=='Q':\n",
    "            break\n",
    "        if move not in ['RIGHT','LEFT','DOWN','UP']:\n",
    "          input('Please enter valid direction')\n",
    "          continue\n",
    "        if move in valid_move:\n",
    "            player = move_player(player,move) \n",
    "        else:\n",
    "            input('\\n ** Walls are hard, do not run into them **\\n')\n",
    "        clear()\n",
    "\n",
    "    # good move? change the position\n",
    "    #bad move? Change nothing\n",
    "    #on the door ? they win\n",
    "    # on the monster? they lose\n",
    "    #otherwise loop back around\n",
    "\n",
    "clear()\n",
    "input('To begin, hit ENTER!')\n",
    "clear()\n",
    "\n",
    "game_loop()"
   ]
  },
  {
   "cell_type": "code",
   "execution_count": null,
   "metadata": {},
   "outputs": [],
   "source": [
    "CELLS=[(0,0),(1,0),(2,0),(3,0),(4,0),\n",
    "       (0,1),(1,1),(2,1),(3,1),(4,1),\n",
    "       (0,2),(1,2),(2,2),(3,2),(4,2),\n",
    "       (0,3),(1,3),(2,3),(3,3),(4,3),\n",
    "       (0,4),(1,4),(2,4),(3,4),(4,4),\n",
    "      ]\n"
   ]
  }
 ],
 "metadata": {
  "kernelspec": {
   "display_name": "Python 3",
   "language": "python",
   "name": "python3"
  },
  "language_info": {
   "codemirror_mode": {
    "name": "ipython",
    "version": 3
   },
   "file_extension": ".py",
   "mimetype": "text/x-python",
   "name": "python",
   "nbconvert_exporter": "python",
   "pygments_lexer": "ipython3",
   "version": "3.6.4"
  }
 },
 "nbformat": 4,
 "nbformat_minor": 2
}
