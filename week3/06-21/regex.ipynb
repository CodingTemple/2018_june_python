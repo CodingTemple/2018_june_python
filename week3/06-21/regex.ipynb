{
 "cells": [
  {
   "cell_type": "code",
   "execution_count": 24,
   "metadata": {},
   "outputs": [],
   "source": [
    "import re\n",
    "\n",
    "names_file = open(\"names.txt\", encoding=\"utf-8\")\n",
    "data = names_file.read()\n",
    "names_file.close()"
   ]
  },
  {
   "cell_type": "markdown",
   "metadata": {},
   "source": [
    "#### .match() - Matches a string starting from the beginning"
   ]
  },
  {
   "cell_type": "code",
   "execution_count": 8,
   "metadata": {},
   "outputs": [
    {
     "name": "stdout",
     "output_type": "stream",
     "text": [
      "<_sre.SRE_Match object; span=(0, 7), match='Hawkins'>\n",
      "None\n"
     ]
    }
   ],
   "source": [
    "print(re.match(r'Hawkins', data)) # works\n",
    "print(re.match(r'Derek', data)) # doesn't work"
   ]
  },
  {
   "cell_type": "markdown",
   "metadata": {},
   "source": [
    "#### .search() - Matches anywhere in string"
   ]
  },
  {
   "cell_type": "code",
   "execution_count": 10,
   "metadata": {},
   "outputs": [
    {
     "data": {
      "text/plain": [
       "<_sre.SRE_Match object; span=(9, 14), match='Derek'>"
      ]
     },
     "execution_count": 10,
     "metadata": {},
     "output_type": "execute_result"
    }
   ],
   "source": [
    "re.search(r'Derek', data)"
   ]
  },
  {
   "cell_type": "code",
   "execution_count": 12,
   "metadata": {},
   "outputs": [
    {
     "data": {
      "text/plain": [
       "<_sre.SRE_Match object; span=(6, 10), match='s, D'>"
      ]
     },
     "execution_count": 12,
     "metadata": {},
     "output_type": "execute_result"
    }
   ],
   "source": [
    "re.search(r'\\w, \\w', data)"
   ]
  },
  {
   "cell_type": "code",
   "execution_count": 20,
   "metadata": {},
   "outputs": [
    {
     "data": {
      "text/plain": [
       "<_sre.SRE_Match object; span=(38, 52), match='(555) 555-5555'>"
      ]
     },
     "execution_count": 20,
     "metadata": {},
     "output_type": "execute_result"
    }
   ],
   "source": [
    "re.search(r'\\(\\d\\d\\d\\) \\d\\d\\d-\\d\\d\\d\\d', data)"
   ]
  },
  {
   "cell_type": "markdown",
   "metadata": {},
   "source": [
    "### Exercise 1:\n",
    "<p>Write a function that checks for n number of consecutive digits in a string.</p>"
   ]
  },
  {
   "cell_type": "code",
   "execution_count": 35,
   "metadata": {},
   "outputs": [
    {
     "data": {
      "text/plain": [
       "<_sre.SRE_Match object; span=(48, 52), match='5555'>"
      ]
     },
     "execution_count": 35,
     "metadata": {},
     "output_type": "execute_result"
    }
   ],
   "source": [
    "def find_digits(count, string):\n",
    "    return re.search(r'\\d'*count, string)\n",
    "\n",
    "find_digits(4, data)"
   ]
  },
  {
   "cell_type": "markdown",
   "metadata": {},
   "source": [
    "## Counts"
   ]
  },
  {
   "cell_type": "code",
   "execution_count": 43,
   "metadata": {},
   "outputs": [
    {
     "data": {
      "text/plain": [
       "<_sre.SRE_Match object; span=(0, 14), match='Hawkins, Derek'>"
      ]
     },
     "execution_count": 43,
     "metadata": {},
     "output_type": "execute_result"
    }
   ],
   "source": [
    "# instead of typing \\d and \\w consecutively\n",
    "re.search(r'\\(\\d{3}\\) \\d{3}-\\d{4}', data) # specify number of digits to look for\n",
    "re.search(r'\\w+, \\w+', data) # more than 1 letters"
   ]
  },
  {
   "cell_type": "code",
   "execution_count": 47,
   "metadata": {},
   "outputs": [
    {
     "data": {
      "text/plain": [
       "['(555) 555-5555',\n",
       " '(555) 555-5554',\n",
       " '(555) 555-5543',\n",
       " '555 555-5551',\n",
       " '(555) 555-5553',\n",
       " '(555) 555-4444']"
      ]
     },
     "execution_count": 47,
     "metadata": {},
     "output_type": "execute_result"
    }
   ],
   "source": [
    "# Not all numbers have parantheses\n",
    "# Find all numbers\n",
    "re.findall(r'\\(?\\d{3}\\)? \\d{3}-\\d{4}', data) # '?' means optional"
   ]
  },
  {
   "cell_type": "code",
   "execution_count": 53,
   "metadata": {},
   "outputs": [
    {
     "data": {
      "text/plain": [
       "['Hawkins, Derek',\n",
       " 'Teacher, Coding',\n",
       " 'Zhai, Mo',\n",
       " 'Teacher, Coding',\n",
       " 'Johnson, Joe',\n",
       " 'Johson, Joe',\n",
       " 'Österberg, Sven',\n",
       " 'Governor, Norrbotten',\n",
       " 'Enchanter, Killer',\n",
       " 'Butz, Ryan',\n",
       " 'CEO, Coding',\n",
       " 'Doctor, The',\n",
       " 'Lord, Gallifrey',\n",
       " 'Exampleson, Example',\n",
       " 'Example, Example',\n",
       " 'Obama, Barack',\n",
       " 'President, United',\n",
       " 'Pael, Ripal',\n",
       " 'Teacher, Coding',\n",
       " 'Vader, Darth',\n",
       " 'Lord, Galactic',\n",
       " 'Sanz, María',\n",
       " 'Minister, Spanish']"
      ]
     },
     "execution_count": 53,
     "metadata": {},
     "output_type": "execute_result"
    }
   ],
   "source": [
    "# Find all names\n",
    "re.findall(r'\\w+, \\w+', data)"
   ]
  },
  {
   "cell_type": "markdown",
   "metadata": {},
   "source": [
    "## Sets"
   ]
  },
  {
   "cell_type": "code",
   "execution_count": 73,
   "metadata": {},
   "outputs": [
    {
     "data": {
      "text/plain": [
       "['derek@codingtemple.com',\n",
       " 'mozhai@codingtemple.com',\n",
       " 'joejohnson@codingtemple.com',\n",
       " 'governor@norrbotten.co.se',\n",
       " 'tim@killerrabbit.com',\n",
       " 'ryanb@codingtemple.com',\n",
       " 'doctor+companion@tardis.co.uk',\n",
       " 'me@example.com',\n",
       " 'president.44@us.gov',\n",
       " 'ripalp@codingtemple.com',\n",
       " 'darth-vader@empire.gov',\n",
       " 'mtfvs@spain.gov']"
      ]
     },
     "execution_count": 73,
     "metadata": {},
     "output_type": "execute_result"
    }
   ],
   "source": [
    "# Find email addresses\n",
    "re.findall(r'[-\\w\\d+.]+@[-\\w\\d.]+', data)"
   ]
  },
  {
   "cell_type": "markdown",
   "metadata": {},
   "source": [
    "## Exercise\n",
    "<p>Find all email addresses with the codingtemple domain</p>"
   ]
  },
  {
   "cell_type": "code",
   "execution_count": 74,
   "metadata": {},
   "outputs": [
    {
     "data": {
      "text/plain": [
       "['derek@codingtemple.com',\n",
       " 'mozhai@codingtemple.com',\n",
       " 'joejohnson@codingtemple.com',\n",
       " 'ryanb@codingtemple.com',\n",
       " 'ripalp@codingtemple.com']"
      ]
     },
     "execution_count": 74,
     "metadata": {},
     "output_type": "execute_result"
    }
   ],
   "source": [
    "# Find all email addresses with a codingtemple domain\n",
    "# [] Looks for unique characters\n",
    "re.findall(r'[-\\w\\d+.]+@[codingtempl]{12}.com', data, re.IGNORECASE) # re.I for short"
   ]
  },
  {
   "cell_type": "markdown",
   "metadata": {},
   "source": [
    "## Negation"
   ]
  },
  {
   "cell_type": "code",
   "execution_count": 83,
   "metadata": {},
   "outputs": [
    {
     "name": "stdout",
     "output_type": "stream",
     "text": [
      "['@codingtemple.com', '@codingtemple.com', '@codingtemple.com', '@norrbotten.co.se', '@killerrabbit.com', '@codingtemple.com', '@tardis.co.uk', '@example.com', '@us.', '@codingtemple.com', '@empire.', '@spain.']\n"
     ]
    }
   ],
   "source": [
    "# Search for emails\n",
    "print(re.findall(r'''\n",
    "    \\b@[-\\w\\d.]* # word boundary, an @ and then any number of chars\n",
    "    [^gov\\t]+ # exclude instances of 'g', 'o', 'v', or 't' and tab\n",
    "    \\b # Another word boundary\n",
    "''', data, re.X|re.I)) # VERBOSE allows for multiline regex"
   ]
  },
  {
   "cell_type": "code",
   "execution_count": 84,
   "metadata": {},
   "outputs": [
    {
     "name": "stdout",
     "output_type": "stream",
     "text": [
      "['Hawkins, Derek', 'Teacher, Coding Temple', 'Zhai, Mo', 'Teacher, Coding Temple', 'Johnson, Joe', 'Johson, Joe', 'Österberg, Sven-Erik', 'Governor, Norrbotten', 'Enchanter, Killer Rabbit Cave', 'Butz, Ryan', 'CEO, Coding Temple', 'Doctor, The', 'Lord, Gallifrey', 'Exampleson, Example', 'Example, Example Co.', 'Obama, Barack', 'President, United States of America', 'Pael, Ripal', 'Teacher, Coding Temple', 'Vader, Darth', 'Lord, Galactic Empire', 'Sanz, María Teresa', 'Minister, Spanish Govt.']\n"
     ]
    }
   ],
   "source": [
    "# search for all names\n",
    "print(re.findall(r'''\n",
    "    \\b[-\\w]+, # find boundary, 1+ hypens or words and a comma\n",
    "    \\s # find 1 whitespace\n",
    "    [-\\w ]+ # 1+ hyphens and chars and a space\n",
    "    [^\\t\\n] # ignore tabs and newlines\n",
    "''', data, re.X|re.I))"
   ]
  },
  {
   "cell_type": "markdown",
   "metadata": {},
   "source": [
    "## Grouping"
   ]
  },
  {
   "cell_type": "code",
   "execution_count": 105,
   "metadata": {},
   "outputs": [
    {
     "name": "stdout",
     "output_type": "stream",
     "text": [
      "[('Hawkins, Derek', 'derek@codingtemple.com', '(555) 555-5555', 'Teacher, Coding Temple\\t', '@derekhawkins'), ('Zhai, Mo', 'mozhai@codingtemple.com', '(555) 555-5554', 'Teacher, Coding Temple', ''), ('Butz, Ryan', 'ryanb@codingtemple.com', '(555) 555-5543', 'CEO, Coding Temple\\t', '@ryanbutz'), ('Exampleson, Example', 'me@example.com', '555-555-5552', 'Example, Example Co.\\t', '@example'), ('Obama, Barack', 'president.44@us.gov', '555 555-5551', 'President, United States of America\\t', '@potus44'), ('Pael, Ripal', 'ripalp@codingtemple.com', '(555) 555-5553', 'Teacher, Coding Temple\\t', '@ripalp'), ('Vader, Darth', 'darth-vader@empire.gov', '(555) 555-4444', 'Sith Lord, Galactic Empire\\t', '@darthvader')]\n"
     ]
    }
   ],
   "source": [
    "print(re.findall(r'''\n",
    "    ^([-\\w ]*,\\s[-\\w ]+)\\t # last and first names\n",
    "    ([-\\w\\d.+]+@[-\\w\\d.]+)\\t # email\n",
    "    (\\(?\\d{3}\\)?-?\\s?\\d{3}-\\d{4})\\t # phone\n",
    "    ([\\w\\s]+,\\s[\\w\\s.]+)\\t? # job and company\n",
    "    (@[\\w\\d]+)?$ # twitter\n",
    "''', data, re.X|re.M))"
   ]
  },
  {
   "cell_type": "markdown",
   "metadata": {},
   "source": [
    "## Labels"
   ]
  },
  {
   "cell_type": "code",
   "execution_count": 99,
   "metadata": {},
   "outputs": [
    {
     "name": "stdout",
     "output_type": "stream",
     "text": [
      "[('Hawkins, Derek', 'derek@codingtemple.com', '(555) 555-5555', 'Teacher, Coding Temple\\t', '@derekhawkins'), ('Zhai, Mo', 'mozhai@codingtemple.com', '(555) 555-5554', 'Teacher, Coding Temple', ''), ('Butz, Ryan', 'ryanb@codingtemple.com', '(555) 555-5543', 'CEO, Coding Temple\\t', '@ryanbutz'), ('Exampleson, Example', 'me@example.com', '555-555-5552', 'Example, Example Co.\\t', '@example'), ('Obama, Barack', 'president.44@us.gov', '555 555-5551', 'President, United States of America\\t', '@potus44'), ('Pael, Ripal', 'ripalp@codingtemple.com', '(555) 555-5553', 'Teacher, Coding Temple\\t', '@ripalp'), ('Vader, Darth', 'darth-vader@empire.gov', '(555) 555-4444', 'Sith Lord, Galactic Empire\\t', '@darthvader')]\n"
     ]
    }
   ],
   "source": [
    "information = re.findall(r'''\n",
    "    ^(?P<name>[-\\w ]*,\\s[-\\w ]+)\\t # last and first names\n",
    "    (?P<email>[-\\w\\d.+]+@[-\\w\\d.]+)\\t # email\n",
    "    (?P<phone>\\(?\\d{3}\\)?-?\\s?\\d{3}-\\d{4})\\t # phone\n",
    "    (?P<job>[\\w\\s]+,\\s[\\w\\s.]+)\\t? # job and company\n",
    "    (?P<twitter>@[\\w\\d]+)?$ # twitter\n",
    "''', data, re.X|re.M)\n",
    "\n",
    "print(information)"
   ]
  },
  {
   "cell_type": "code",
   "execution_count": 106,
   "metadata": {},
   "outputs": [
    {
     "name": "stdout",
     "output_type": "stream",
     "text": [
      "Hawkins, Derek\n",
      "Zhai, Mo\n",
      "Butz, Ryan\n",
      "Exampleson, Example\n",
      "Obama, Barack\n",
      "Pael, Ripal\n",
      "Vader, Darth\n"
     ]
    }
   ],
   "source": [
    "info = re.compile(r'''\n",
    "    ^(?P<name>(?P<last>[-\\w ]*),\\s(?P<first>[-\\w ]+))\\t # last and first names\n",
    "    (?P<email>[-\\w\\d.+]+@[-\\w\\d.]+)\\t # email\n",
    "    (?P<phone>\\(?\\d{3}\\)?-?\\s?\\d{3}-\\d{4})\\t # phone\n",
    "    (?P<job>[\\w\\s]+,\\s[\\w\\s.]+)\\t? # job and company\n",
    "    (?P<twitter>@[\\w\\d]+)?$ # twitter\n",
    "''', re.X|re.M)\n",
    "\n",
    "for i in info.finditer(data):\n",
    "    print(i.group('name'))"
   ]
  }
 ],
 "metadata": {
  "kernelspec": {
   "display_name": "Python 3",
   "language": "python",
   "name": "python3"
  },
  "language_info": {
   "codemirror_mode": {
    "name": "ipython",
    "version": 3
   },
   "file_extension": ".py",
   "mimetype": "text/x-python",
   "name": "python",
   "nbconvert_exporter": "python",
   "pygments_lexer": "ipython3",
   "version": "3.6.4"
  }
 },
 "nbformat": 4,
 "nbformat_minor": 2
}
