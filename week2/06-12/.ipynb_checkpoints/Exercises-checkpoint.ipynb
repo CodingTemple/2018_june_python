{
 "cells": [
  {
   "cell_type": "code",
   "execution_count": 7,
   "metadata": {},
   "outputs": [
    {
     "name": "stdout",
     "output_type": "stream",
     "text": [
      "Here's your list:\n"
     ]
    }
   ],
   "source": [
    "import os\n",
    "from IPython.display import clear_output # specidically for jupyter notebook\n",
    "\n",
    "def show_instructions():\n",
    "    print(\"Enter 'ADD' to add to your list of items\")\n",
    "    print(\"Enter 'SHOW' to see your list of items\")\n",
    "    print(\"Enter 'HELP' to see instructions\")\n",
    "    print(\"Enter 'CLEAR' to clear your list\")\n",
    "    print(\"Enter 'DELETE' to delete an item from your list\")\n",
    "    print(\"Enter 'DONE' when you're finished adding to your list\")\n",
    "\n",
    "# Specifically for the terminal/command prompt\n",
    "def clear_screen():\n",
    "    os.system(\"cls\" if os.name == 'nt' else 'clear')\n",
    "\n",
    "def addItem(new_item):\n",
    "    myList.append(new_item)\n",
    "    clear_screen()\n",
    "    clear_output()\n",
    "    \n",
    "def show_list():\n",
    "    [print(f\"{i+1}: {myList[i]}\") for i in range(len(myList))]\n",
    "\n",
    "myList = []\n",
    "\n",
    "show_instructions()\n",
    "\n",
    "while True:\n",
    "    query = input(\"What would you like to do? \")\n",
    "    if query == 'ADD'.lower():\n",
    "        clear_output()\n",
    "        query = input(\"What would you like to add? \")\n",
    "        addItem(query)\n",
    "        show_list()\n",
    "    if query == 'SHOW'.lower():\n",
    "        clear_output()\n",
    "        show_list()\n",
    "        continue\n",
    "    if query == 'HELP'.lower():\n",
    "        clear_output()\n",
    "        show_instructions()\n",
    "        continue\n",
    "    if query == 'CLEAR'.lower():\n",
    "        query = input(\"Are you sure? y/N? \")\n",
    "        if query == 'y'.lower():\n",
    "            clear_output()\n",
    "            del myList[:]\n",
    "            print(\"Your list is now empty\")\n",
    "        if query == 'n'.lower():\n",
    "            continue\n",
    "    if query == 'REMOVE'.lower():\n",
    "        item_to_remove = input(\"Which item would you like to remove? \")\n",
    "        if item_to_remove not in myList:\n",
    "            print(\"That entry is invalid\")\n",
    "            continue\n",
    "        myList.remove(item_to_remove)\n",
    "        print(\"Here is your new list:\")\n",
    "        show_list()\n",
    "        continue\n",
    "    if query == 'DONE'.lower():\n",
    "        clear_output()\n",
    "        print(\"Here's your list:\")\n",
    "        show_list()\n",
    "        break"
   ]
  },
  {
   "cell_type": "code",
   "execution_count": null,
   "metadata": {},
   "outputs": [],
   "source": []
  }
 ],
 "metadata": {
  "kernelspec": {
   "display_name": "Python 3",
   "language": "python",
   "name": "python3"
  },
  "language_info": {
   "codemirror_mode": {
    "name": "ipython",
    "version": 3
   },
   "file_extension": ".py",
   "mimetype": "text/x-python",
   "name": "python",
   "nbconvert_exporter": "python",
   "pygments_lexer": "ipython3",
   "version": "3.6.4"
  }
 },
 "nbformat": 4,
 "nbformat_minor": 2
}
