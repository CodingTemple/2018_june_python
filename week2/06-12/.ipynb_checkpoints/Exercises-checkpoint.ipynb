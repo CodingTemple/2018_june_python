{
 "cells": [
  {
   "cell_type": "code",
   "execution_count": null,
   "metadata": {},
   "outputs": [
    {
     "name": "stdout",
     "output_type": "stream",
     "text": [
      "Enter 'ADD' to add to your list of items\n",
      "Enter 'SHOW' to see your list of items\n",
      "Enter 'HELP' to see instructions\n",
      "Enter 'CLEAR' to clear your list\n",
      "Enter 'DELETE' to delete an item from your list\n",
      "Enter 'DONE' when you're finished adding to your list\n"
     ]
    }
   ],
   "source": [
    "# import os # no longer needed\n",
    "import cart\n",
    "from IPython.display import clear_output # specifically for jupyter notebook\n",
    "from collections import Counter\n",
    "\n",
    "myList = []\n",
    "\n",
    "cart.show_instructions() # pulled from cart module\n",
    "\n",
    "while True:\n",
    "    query = input(\"What would you like to do? \")\n",
    "    if query == 'ADD'.lower():\n",
    "        clear_output()\n",
    "        query = input(\"What would you like to add? \")\n",
    "        item = cart.ListItem(query)\n",
    "        cart.addItem(myList, item) # pulled from cart module\n",
    "        new_list = [myList[i].name for i in range(len(myList))]\n",
    "        cart.show_list(new_list) # pulled from cart module\n",
    "    if query == 'SHOW'.lower():\n",
    "        clear_output()\n",
    "        print(\"Here's your list:\")\n",
    "        cart.show_list(new_list) # pulled from cart module\n",
    "        continue\n",
    "    if query == 'HELP'.lower():\n",
    "        clear_output()\n",
    "        cart.show_instructions() # pulled from cart module\n",
    "        continue\n",
    "    if query == 'CLEAR'.lower():\n",
    "        query = input(\"Are you sure? y/N? \")\n",
    "        if query == 'y'.lower():\n",
    "            clear_output()\n",
    "            del myList[:]\n",
    "            print(\"Your list is now empty\")\n",
    "        if query == 'n'.lower():\n",
    "            continue\n",
    "    if query == 'REMOVE'.lower():\n",
    "        item_to_remove = input(\"Which item would you like to remove? \")\n",
    "        if item_to_remove not in myList:\n",
    "            print(\"That entry is invalid\")\n",
    "            continue\n",
    "        myList.remove(item_to_remove)\n",
    "        print(\"Here is your new list:\")\n",
    "        cart.show_list(myList) # pulled from cart module\n",
    "        continue\n",
    "    if query == 'DONE'.lower():\n",
    "        clear_output()\n",
    "        if not myList:\n",
    "            print(\"There is nothing in your cart. Goodbye.\")\n",
    "        else:\n",
    "            print(\"Here's your list:\")\n",
    "            cart.show_list(new_list) # pulled from cart module\n",
    "        break"
   ]
  },
  {
   "cell_type": "code",
   "execution_count": null,
   "metadata": {},
   "outputs": [],
   "source": []
  }
 ],
 "metadata": {
  "kernelspec": {
   "display_name": "Python 3",
   "language": "python",
   "name": "python3"
  },
  "language_info": {
   "codemirror_mode": {
    "name": "ipython",
    "version": 3
   },
   "file_extension": ".py",
   "mimetype": "text/x-python",
   "name": "python",
   "nbconvert_exporter": "python",
   "pygments_lexer": "ipython3",
   "version": "3.6.4"
  }
 },
 "nbformat": 4,
 "nbformat_minor": 2
}
