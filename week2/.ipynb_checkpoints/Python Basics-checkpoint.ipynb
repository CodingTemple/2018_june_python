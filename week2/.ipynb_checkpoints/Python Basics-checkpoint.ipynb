{
 "cells": [
  {
   "cell_type": "markdown",
   "metadata": {},
   "source": [
    "# Syntax"
   ]
  },
  {
   "cell_type": "markdown",
   "metadata": {},
   "source": [
    "#### Python is a very simple language to learn. Unlike lower-level languages like C++ where things are done manually, in Python a lot of the hard stuff is done for you."
   ]
  },
  {
   "cell_type": "markdown",
   "metadata": {},
   "source": [
    "## Indentation"
   ]
  },
  {
   "cell_type": "markdown",
   "metadata": {},
   "source": [
    "#### Indentation is the single-most important syntactical thing to know about Python. Unlike HTML and CSS, you can't just throw Python together and expect it to work. Without proper indentation, your code WILL NOT WORK. This is intentional and by design, to prevent poorly written and hard-to-read code."
   ]
  },
  {
   "cell_type": "markdown",
   "metadata": {},
   "source": [
    "## Running Python"
   ]
  },
  {
   "cell_type": "markdown",
   "metadata": {},
   "source": [
    "#### When building software with Python, you'll more than likely opt to use a text editor or IDE. Python files will ONLY run when those files have an appended '.py' extension on them. In Jupyter Notebook, however, it's as simple as pressing Ctrl + ENTER on PC and Cmd + Enter on MacOS."
   ]
  },
  {
   "cell_type": "markdown",
   "metadata": {},
   "source": [
    "# Variables and Datatypes"
   ]
  },
  {
   "cell_type": "markdown",
   "metadata": {},
   "source": [
    "#### This is the basic syntax of variable declaration:"
   ]
  },
  {
   "cell_type": "code",
   "execution_count": 2,
   "metadata": {},
   "outputs": [],
   "source": [
    "myVar = \"This is a string\""
   ]
  },
  {
   "cell_type": "markdown",
   "metadata": {},
   "source": [
    "#### Above is an example of variable assignment. The name of the variable is on the left of the equal sign while the assignment of the variable is on the right of the equal sign.\n",
    "\n",
    "#### If you notice, this wearing variable naming convention is referred to as Camel Case. This is done when you want to use a descriptive name for a variable. If two words can describe the variable, the first letter of the next word(s) is capitalized. For example, 'thisIsMyVariable' is a perfectly valid variable naming convention.\n",
    "\n",
    "#### When referencing variables later in your file, they must be referenced in the case they were assigned in.\n",
    "\n",
    "#### Please note that variable can ONLY begin with either a letter or an underscore.\n",
    "\n",
    "#### Python supports the following commonly used datatypes:\n",
    "#### - booleans (True or False)\n",
    "#### - integers (negative or positive whole numbers)\n",
    "#### - floats (numbers with decimals)\n",
    "#### - strings (a grouping of alphanumeric a special character wrapped inside of either single or double quotes\"\n",
    "#### - lists (any combination of booleans, integers, floats, strings, lists, object, etc. separated by commas)\n",
    "#### - objects (a blueprint of variables and functions which create a single entity)\n",
    "#### - None (None is an object. A NoneType signifies an object that has has no value)"
   ]
  },
  {
   "cell_type": "markdown",
   "metadata": {},
   "source": [
    "# Operators and Maths"
   ]
  },
  {
   "cell_type": "markdown",
   "metadata": {},
   "source": [
    "#### Just like with any other programming language, you are able to perform arithmetic.\n",
    "\n",
    "#### You can perform addition, subtraction, division, multiplication, floor division, check for remainders, etc.\n",
    "\n",
    "#### Floor division divides the equation down to an integer. True division evaluates down to a float. For example:"
   ]
  },
  {
   "cell_type": "code",
   "execution_count": 4,
   "metadata": {},
   "outputs": [
    {
     "data": {
      "text/plain": [
       "1.6666666666666667"
      ]
     },
     "execution_count": 4,
     "metadata": {},
     "output_type": "execute_result"
    }
   ],
   "source": [
    "# True Division\n",
    "5 / 3"
   ]
  },
  {
   "cell_type": "code",
   "execution_count": 5,
   "metadata": {},
   "outputs": [
    {
     "data": {
      "text/plain": [
       "1"
      ]
     },
     "execution_count": 5,
     "metadata": {},
     "output_type": "execute_result"
    }
   ],
   "source": [
    "## Floor  Division\n",
    "5 // 3"
   ]
  },
  {
   "cell_type": "markdown",
   "metadata": {},
   "source": [
    "#### Checking for remainders are found using the modulo (%) operator:"
   ]
  },
  {
   "cell_type": "code",
   "execution_count": 6,
   "metadata": {},
   "outputs": [
    {
     "data": {
      "text/plain": [
       "2"
      ]
     },
     "execution_count": 6,
     "metadata": {},
     "output_type": "execute_result"
    }
   ],
   "source": [
    "5 % 3"
   ]
  },
  {
   "cell_type": "markdown",
   "metadata": {},
   "source": [
    "#### Some commonly used math operator functions are: min(), max(), count(), ceil(), floor(), randint(), etc. Look up more and what these functions do at https://docs.python.org/3/library/functions.html"
   ]
  },
  {
   "cell_type": "markdown",
   "metadata": {},
   "source": [
    "# Strings"
   ]
  },
  {
   "cell_type": "markdown",
   "metadata": {},
   "source": [
    "#### As mentioned before, declaring strings is as easy as assigning a variable to a combination of alphanumeric values & special characters inside of a set of either single quotes, or double quotes. Both are valid:"
   ]
  },
  {
   "cell_type": "code",
   "execution_count": 8,
   "metadata": {},
   "outputs": [],
   "source": [
    "myString = \"This is a string\"\n",
    "\n",
    "myOtherString = 'This is a string'"
   ]
  },
  {
   "cell_type": "markdown",
   "metadata": {},
   "source": [
    "#### Make note that, in the event of the use of an apostrophe within the string, you must either use the escape character, or simply define your variable using double quotes, so Python will interpret the expression properly"
   ]
  },
  {
   "cell_type": "code",
   "execution_count": 14,
   "metadata": {},
   "outputs": [],
   "source": [
    "validString = \"This is Derek's string\" # This is valid\n",
    "\n",
    "anotherValidString = 'This is Derek\\'s string' # This is also valid; uses the escape character '\\'\n",
    "\n",
    "# invalidString = 'This is Derek's string' # This is invalid"
   ]
  },
  {
   "cell_type": "markdown",
   "metadata": {},
   "source": [
    "# Arrays"
   ]
  },
  {
   "cell_type": "markdown",
   "metadata": {},
   "source": [
    "#### Interchangeably, and more popularly known as lists, arrays are any combination of datatypes separated by commas and enclosed in square brackets."
   ]
  },
  {
   "cell_type": "code",
   "execution_count": 15,
   "metadata": {},
   "outputs": [],
   "source": [
    "myList = [1, \"Coding Temple\", {3, 6, 11}, [9, 4, 2], 1.23, True]"
   ]
  },
  {
   "cell_type": "markdown",
   "metadata": {},
   "source": [
    "#### You can access the index of a list by typing the list variable followed by a number inside of square brackets"
   ]
  },
  {
   "cell_type": "code",
   "execution_count": 36,
   "metadata": {},
   "outputs": [
    {
     "data": {
      "text/plain": [
       "{3, 6, 11}"
      ]
     },
     "execution_count": 36,
     "metadata": {},
     "output_type": "execute_result"
    }
   ],
   "source": [
    "myList[2]"
   ]
  },
  {
   "cell_type": "markdown",
   "metadata": {},
   "source": [
    "# Conditionals"
   ]
  },
  {
   "cell_type": "markdown",
   "metadata": {},
   "source": [
    "#### The power of binary computing is all about 1s and 0s. Binary is THEE building block of all programming languages. Since 'bi' means two, this means that every statement and every expression will either evaluate to True or False; booleans. All statements and expressions will ONLY run in Python if they evaluate to True. Conditional statements essentially boil down to two parts: the condition to check, the statement to run based on the condition."
   ]
  },
  {
   "cell_type": "code",
   "execution_count": 19,
   "metadata": {},
   "outputs": [
    {
     "name": "stdout",
     "output_type": "stream",
     "text": [
      "I work for Coding Temple\n"
     ]
    }
   ],
   "source": [
    "myCompany = \"Coding Temple\"\n",
    "\n",
    "if myCompany == \"Coding Temple\":\n",
    "    print(\"I work for Coding Temple\")"
   ]
  },
  {
   "cell_type": "markdown",
   "metadata": {},
   "source": [
    "#### You can use if/else-statements to check for more than one condition instead of writing multiple if-statements."
   ]
  },
  {
   "cell_type": "code",
   "execution_count": 23,
   "metadata": {},
   "outputs": [
    {
     "name": "stdout",
     "output_type": "stream",
     "text": [
      "I do not work for Coding Temple. I work for Coding Dojo.\n"
     ]
    }
   ],
   "source": [
    "myCompany = \"Coding Dojo\"\n",
    "\n",
    "if myCompany == \"Coding Temple\":\n",
    "    print(\"I work for {}.\".format(myCompany))\n",
    "else:\n",
    "    print(\"I do not work for Coding Temple. I work for {}.\".format(myCompany))"
   ]
  },
  {
   "cell_type": "markdown",
   "metadata": {},
   "source": [
    "#### Alternatively, you can use if/elif/else-statements to check more than 2 conditions."
   ]
  },
  {
   "cell_type": "code",
   "execution_count": 30,
   "metadata": {},
   "outputs": [
    {
     "name": "stdout",
     "output_type": "stream",
     "text": [
      "1: Does not apply\n",
      "2: divisible by 2\n",
      "3: divisible by 3\n",
      "4: divisible by 2\n",
      "5: divisible by 5\n",
      "6: divisible by 3\n",
      "7: Does not apply\n",
      "8: divisible by 2\n",
      "9: divisible by 3\n",
      "10: divisible by 2\n",
      "11: Does not apply\n",
      "12: divisible by 3\n",
      "13: Does not apply\n",
      "14: divisible by 2\n",
      "15: divisible by 3\n",
      "16: divisible by 2\n",
      "17: Does not apply\n",
      "18: divisible by 3\n",
      "19: Does not apply\n",
      "20: divisible by 2\n",
      "21: divisible by 3\n",
      "22: divisible by 2\n",
      "23: Does not apply\n",
      "24: divisible by 3\n",
      "25: divisible by 5\n",
      "26: divisible by 2\n",
      "27: divisible by 3\n",
      "28: divisible by 2\n",
      "29: Does not apply\n",
      "30: divisible by 3\n",
      "31: Does not apply\n",
      "32: divisible by 2\n",
      "33: divisible by 3\n",
      "34: divisible by 2\n",
      "35: divisible by 5\n",
      "36: divisible by 3\n",
      "37: Does not apply\n",
      "38: divisible by 2\n",
      "39: divisible by 3\n",
      "40: divisible by 2\n",
      "41: Does not apply\n",
      "42: divisible by 3\n",
      "43: Does not apply\n",
      "44: divisible by 2\n",
      "45: divisible by 3\n",
      "46: divisible by 2\n",
      "47: Does not apply\n",
      "48: divisible by 3\n",
      "49: Does not apply\n",
      "50: divisible by 2\n",
      "51: divisible by 3\n",
      "52: divisible by 2\n",
      "53: Does not apply\n",
      "54: divisible by 3\n",
      "55: divisible by 5\n",
      "56: divisible by 2\n",
      "57: divisible by 3\n",
      "58: divisible by 2\n",
      "59: Does not apply\n",
      "60: divisible by 3\n",
      "61: Does not apply\n",
      "62: divisible by 2\n",
      "63: divisible by 3\n",
      "64: divisible by 2\n",
      "65: divisible by 5\n",
      "66: divisible by 3\n",
      "67: Does not apply\n",
      "68: divisible by 2\n",
      "69: divisible by 3\n",
      "70: divisible by 2\n",
      "71: Does not apply\n",
      "72: divisible by 3\n",
      "73: Does not apply\n",
      "74: divisible by 2\n",
      "75: divisible by 3\n",
      "76: divisible by 2\n",
      "77: Does not apply\n",
      "78: divisible by 3\n",
      "79: Does not apply\n",
      "80: divisible by 2\n",
      "81: divisible by 3\n",
      "82: divisible by 2\n",
      "83: Does not apply\n",
      "84: divisible by 3\n",
      "85: divisible by 5\n",
      "86: divisible by 2\n",
      "87: divisible by 3\n",
      "88: divisible by 2\n",
      "89: Does not apply\n",
      "90: divisible by 3\n",
      "91: Does not apply\n",
      "92: divisible by 2\n",
      "93: divisible by 3\n",
      "94: divisible by 2\n",
      "95: divisible by 5\n",
      "96: divisible by 3\n",
      "97: Does not apply\n",
      "98: divisible by 2\n",
      "99: divisible by 3\n",
      "100: divisible by 2\n"
     ]
    }
   ],
   "source": [
    "for i in range(1, 101):\n",
    "    if i%3==0:\n",
    "        print(\"{}: divisible by 3\".format(i))\n",
    "    elif i%2==0:\n",
    "        print(\"{}: divisible by 2\".format(i))\n",
    "    elif i%5==0:\n",
    "        print(\"{}: divisible by 5\".format(i))\n",
    "    else:\n",
    "        print(\"{}: Does not apply\".format(i))"
   ]
  },
  {
   "cell_type": "markdown",
   "metadata": {},
   "source": [
    "# Loops"
   ]
  },
  {
   "cell_type": "markdown",
   "metadata": {},
   "source": [
    "#### In a basic sense, loops traverse through the length of a string, list, etc. You can use for-loops, or while-loops. The difference is solely in the syntax."
   ]
  },
  {
   "cell_type": "code",
   "execution_count": 39,
   "metadata": {},
   "outputs": [
    {
     "name": "stdout",
     "output_type": "stream",
     "text": [
      "Coding Temple\n",
      "Ripal\n",
      "Frank\n",
      "Connor\n",
      "Jordan\n"
     ]
    }
   ],
   "source": [
    "emps = [\"Coding Temple\", \"Ripal\", \"Frank\", \"Connor\", \"Jordan\"]\n",
    "\n",
    "for i in range(0, len(emps)):\n",
    "    print(emps[i])"
   ]
  },
  {
   "cell_type": "markdown",
   "metadata": {},
   "source": [
    "#### With while-loops, you must create a condition for it to end. Otherwise you will create an infinite loop and will need to either restat your script or shut down the server and reboot it to fix the issue."
   ]
  },
  {
   "cell_type": "code",
   "execution_count": 42,
   "metadata": {},
   "outputs": [
    {
     "name": "stdout",
     "output_type": "stream",
     "text": [
      "Hello\n",
      "Hello\n",
      "Hello\n",
      "Hello\n",
      "Hello\n",
      "Hello\n",
      "Hello\n",
      "Hello\n",
      "Hello\n",
      "Hello\n"
     ]
    }
   ],
   "source": [
    "stop = 1\n",
    "\n",
    "while stop <=10:\n",
    "    stop+=1\n",
    "    print(\"Hello\")"
   ]
  },
  {
   "cell_type": "markdown",
   "metadata": {},
   "source": [
    "# Functions"
   ]
  },
  {
   "cell_type": "markdown",
   "metadata": {},
   "source": [
    "#### Either functions are defined standalone, or the're defined to accept placeholder-information"
   ]
  },
  {
   "cell_type": "code",
   "execution_count": 44,
   "metadata": {},
   "outputs": [
    {
     "name": "stdout",
     "output_type": "stream",
     "text": [
      "Derek\n"
     ]
    }
   ],
   "source": [
    "def showName():\n",
    "    print(\"Derek\")\n",
    "showName()"
   ]
  },
  {
   "cell_type": "code",
   "execution_count": 1,
   "metadata": {},
   "outputs": [
    {
     "name": "stdout",
     "output_type": "stream",
     "text": [
      "Meg\n"
     ]
    }
   ],
   "source": [
    "def showName(name):\n",
    "    print(name)\n",
    "    \n",
    "showName(\"Meg\")"
   ]
  },
  {
   "cell_type": "markdown",
   "metadata": {},
   "source": [
    "# Exercises"
   ]
  },
  {
   "cell_type": "markdown",
   "metadata": {},
   "source": [
    "##### Build a pyramid of x's with 5 rows"
   ]
  },
  {
   "cell_type": "code",
   "execution_count": 3,
   "metadata": {},
   "outputs": [
    {
     "name": "stdout",
     "output_type": "stream",
     "text": [
      "    X\n",
      "   XXX\n",
      "  XXXXX\n",
      " XXXXXXX\n",
      "XXXXXXXXX\n"
     ]
    }
   ],
   "source": [
    "for i in range(1, 6):\n",
    "    print(\" \" * (5-i) + \"X\" * i + \"X\" * (i-1))"
   ]
  },
  {
   "cell_type": "markdown",
   "metadata": {},
   "source": [
    "##### Find all perfectly cubed numbers up to 1000"
   ]
  },
  {
   "cell_type": "code",
   "execution_count": null,
   "metadata": {},
   "outputs": [],
   "source": []
  }
 ],
 "metadata": {
  "kernelspec": {
   "display_name": "Python 3",
   "language": "python",
   "name": "python3"
  },
  "language_info": {
   "codemirror_mode": {
    "name": "ipython",
    "version": 3
   },
   "file_extension": ".py",
   "mimetype": "text/x-python",
   "name": "python",
   "nbconvert_exporter": "python",
   "pygments_lexer": "ipython3",
   "version": "3.6.4"
  }
 },
 "nbformat": 4,
 "nbformat_minor": 2
}
