{
 "cells": [
  {
   "cell_type": "markdown",
   "metadata": {
    "inputHidden": false,
    "outputHidden": false
   },
   "source": [
    "## Check a number is Prime number"
   ]
  },
  {
   "cell_type": "code",
   "execution_count": 20,
   "metadata": {
    "inputHidden": false,
    "outputHidden": false
   },
   "outputs": [
    {
     "data": {
      "text/plain": [
       "False"
      ]
     },
     "execution_count": 20,
     "metadata": {},
     "output_type": "execute_result"
    }
   ],
   "source": [
    "def is_prim(x):        \n",
    "    for i in range(2,x):\n",
    "        if x%i==0:\n",
    "            return False\n",
    "    return True\n",
    "\n",
    "is_prim(96)"
   ]
  },
  {
   "cell_type": "markdown",
   "metadata": {},
   "source": [
    "### Get first 100 Prime number (double loop)\n",
    "\n"
   ]
  },
  {
   "cell_type": "code",
   "execution_count": null,
   "metadata": {
    "inputHidden": false,
    "outputHidden": false
   },
   "outputs": [],
   "source": [
    "def print_prim100():\n",
    "    count=0\n",
    "    x = 2\n",
    "    while count<100:\n",
    "        isPrim = True\n",
    "        for i in range(2,x):\n",
    "            if x%i==0:\n",
    "                isPrim = False\n",
    "        if isPrim:\n",
    "            print(count+1,x)\n",
    "            count +=1\n",
    "        x += 1\n",
    "            \n",
    "print_prim100()"
   ]
  },
  {
   "cell_type": "markdown",
   "metadata": {
    "inputHidden": false,
    "outputHidden": false
   },
   "source": [
    "### Cube number test. (programmer thinking)"
   ]
  },
  {
   "cell_type": "code",
   "execution_count": 25,
   "metadata": {
    "inputHidden": false,
    "outputHidden": false
   },
   "outputs": [
    {
     "data": {
      "text/plain": [
       "-2"
      ]
     },
     "execution_count": 25,
     "metadata": {},
     "output_type": "execute_result"
    }
   ],
   "source": [
    "#Find the cube root of a perfect cube\n",
    "def is_cube(x):\n",
    "    ans = 0\n",
    "    while ans**3 < abs(x):\n",
    "        ans = ans + 1\n",
    "    if ans**3 != abs(x):\n",
    "        return False\n",
    "    else:\n",
    "        if x < 0: ans = -ans\n",
    "        return ans\n",
    "\n",
    "is_cube(-8)    \n"
   ]
  },
  {
   "cell_type": "markdown",
   "metadata": {
    "inputHidden": false,
    "outputHidden": false
   },
   "source": [
    "### Two sums - Double for loop (Naïve approach)"
   ]
  },
  {
   "cell_type": "code",
   "execution_count": 22,
   "metadata": {
    "inputHidden": false,
    "outputHidden": false
   },
   "outputs": [
    {
     "data": {
      "text/plain": [
       "(7, 9)"
      ]
     },
     "execution_count": 22,
     "metadata": {},
     "output_type": "execute_result"
    }
   ],
   "source": [
    "def two_sum(a_list, target):\n",
    "    l = len(a_list)\n",
    "    for i in range(l):\n",
    "        for j in range(i+1,l):\n",
    "            if a_list[i] + a_list[j] == target:\n",
    "                return (a_list[i], a_list[j])\n",
    "    return False\n",
    "\n",
    "a_list = [1,2,3,4,7,9,8]\n",
    "\n",
    "two_sum(a_list,16)"
   ]
  },
  {
   "cell_type": "markdown",
   "metadata": {},
   "source": [
    "## A list is sorted"
   ]
  },
  {
   "cell_type": "code",
   "execution_count": 31,
   "metadata": {},
   "outputs": [
    {
     "name": "stdout",
     "output_type": "stream",
     "text": [
      "[1, 2, 3, 4, 7, 9, 8] [1, 2, 3, 4, 7, 8, 9]\n"
     ]
    },
    {
     "data": {
      "text/plain": [
       "(False, True)"
      ]
     },
     "execution_count": 31,
     "metadata": {},
     "output_type": "execute_result"
    }
   ],
   "source": [
    "a_list = [1,2,3,4,7,9,8]\n",
    "b_list  = sorted(a_list)\n",
    "\n",
    "def is_sorted(a_list):\n",
    "    \n",
    "    if a_list is None or len(a_list)<1:\n",
    "        return True\n",
    "    \n",
    "    last = a_list[0]\n",
    "    for x in a_list:\n",
    "        if last>x:\n",
    "            return False\n",
    "        last = x\n",
    "    return True\n",
    "\n",
    "print(a_list,b_list)\n",
    "is_sorted(a_list), is_sorted(b_list)"
   ]
  }
 ],
 "metadata": {
  "kernel_info": {
   "name": "python3"
  },
  "kernelspec": {
   "display_name": "Python 3",
   "language": "python",
   "name": "python3"
  },
  "language_info": {
   "codemirror_mode": {
    "name": "ipython",
    "version": 3
   },
   "file_extension": ".py",
   "mimetype": "text/x-python",
   "name": "python",
   "nbconvert_exporter": "python",
   "pygments_lexer": "ipython3",
   "version": "3.6.4"
  },
  "nteract": {
   "version": "0.7.1"
  }
 },
 "nbformat": 4,
 "nbformat_minor": 2
}
