{
 "cells": [
  {
   "cell_type": "markdown",
   "metadata": {
    "inputHidden": false,
    "outputHidden": false
   },
   "source": [
    "## Count freq for each words in text\n",
    "## find all distinct words in text"
   ]
  },
  {
   "cell_type": "code",
   "execution_count": 4,
   "metadata": {
    "inputHidden": false,
    "outputHidden": false
   },
   "outputs": [],
   "source": [
    "a_text = 'In computing, a hash table hash map is a data structure which implements an associative array abstract data type, a structure that can map keys to values. A hash table uses a hash function to compute an index into an array of buckets or slots from which the desired value can be found'"
   ]
  },
  {
   "cell_type": "code",
   "execution_count": 6,
   "metadata": {
    "inputHidden": false,
    "outputHidden": false
   },
   "outputs": [
    {
     "data": {
      "text/plain": [
       "{'a': 5,\n",
       " 'abstract': 1,\n",
       " 'an': 3,\n",
       " 'array': 2,\n",
       " 'associative': 1,\n",
       " 'be': 1,\n",
       " 'buckets': 1,\n",
       " 'can': 2,\n",
       " 'compute': 1,\n",
       " 'computing,': 1,\n",
       " 'data': 2,\n",
       " 'desired': 1,\n",
       " 'found': 1,\n",
       " 'from': 1,\n",
       " 'function': 1,\n",
       " 'hash': 4,\n",
       " 'implements': 1,\n",
       " 'in': 1,\n",
       " 'index': 1,\n",
       " 'into': 1,\n",
       " 'is': 1,\n",
       " 'keys': 1,\n",
       " 'map': 2,\n",
       " 'of': 1,\n",
       " 'or': 1,\n",
       " 'slots': 1,\n",
       " 'structure': 2,\n",
       " 'table': 2,\n",
       " 'that': 1,\n",
       " 'the': 1,\n",
       " 'to': 2,\n",
       " 'type,': 1,\n",
       " 'uses': 1,\n",
       " 'value': 1,\n",
       " 'values.': 1,\n",
       " 'which': 2}"
      ]
     },
     "execution_count": 6,
     "metadata": {},
     "output_type": "execute_result"
    }
   ],
   "source": [
    "def word_freq(text):\n",
    "    a_dict = {}\n",
    "    for w in text.split():\n",
    "        w = w.lower()\n",
    "        if w in a_dict:\n",
    "            a_dict[w] += 1\n",
    "        else:\n",
    "            a_dict[w]=1\n",
    "    return a_dict\n",
    "\n",
    "word_freq(a_text)    "
   ]
  },
  {
   "cell_type": "code",
   "execution_count": 4,
   "metadata": {
    "inputHidden": false,
    "outputHidden": false
   },
   "outputs": [
    {
     "data": {
      "text/plain": [
       "[('a', 5), ('hash', 4), ('an', 3), ('table', 2), ('map', 2)]"
      ]
     },
     "execution_count": 4,
     "metadata": {},
     "output_type": "execute_result"
    }
   ],
   "source": [
    "from collections import Counter\n",
    "ct = Counter()\n",
    "for w in a_text.split():\n",
    "    w = w.lower()\n",
    "    ct[w]+=1\n",
    "ct.most_common(5)   "
   ]
  },
  {
   "cell_type": "code",
   "execution_count": 5,
   "metadata": {
    "inputHidden": false,
    "outputHidden": false
   },
   "outputs": [
    {
     "data": {
      "text/plain": [
       "{'A',\n",
       " 'In',\n",
       " 'a',\n",
       " 'abstract',\n",
       " 'an',\n",
       " 'array',\n",
       " 'associative',\n",
       " 'be',\n",
       " 'buckets',\n",
       " 'can',\n",
       " 'compute',\n",
       " 'computing,',\n",
       " 'data',\n",
       " 'desired',\n",
       " 'found',\n",
       " 'from',\n",
       " 'function',\n",
       " 'hash',\n",
       " 'implements',\n",
       " 'index',\n",
       " 'into',\n",
       " 'is',\n",
       " 'keys',\n",
       " 'map',\n",
       " 'of',\n",
       " 'or',\n",
       " 'slots',\n",
       " 'structure',\n",
       " 'table',\n",
       " 'that',\n",
       " 'the',\n",
       " 'to',\n",
       " 'type,',\n",
       " 'uses',\n",
       " 'value',\n",
       " 'values.',\n",
       " 'which'}"
      ]
     },
     "execution_count": 5,
     "metadata": {},
     "output_type": "execute_result"
    }
   ],
   "source": [
    "a_list = a_text.split()\n",
    "set(a_list)"
   ]
  }
 ],
 "metadata": {
  "kernel_info": {
   "name": "python3"
  },
  "kernelspec": {
   "display_name": "Python 3",
   "language": "python",
   "name": "python3"
  },
  "language_info": {
   "codemirror_mode": {
    "name": "ipython",
    "version": 3
   },
   "file_extension": ".py",
   "mimetype": "text/x-python",
   "name": "python",
   "nbconvert_exporter": "python",
   "pygments_lexer": "ipython3",
   "version": "3.6.4"
  },
  "nteract": {
   "version": "0.7.1"
  }
 },
 "nbformat": 4,
 "nbformat_minor": 2
}
