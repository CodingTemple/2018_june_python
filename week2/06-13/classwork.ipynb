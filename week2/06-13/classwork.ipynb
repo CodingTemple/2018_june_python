{
 "cells": [
  {
   "cell_type": "markdown",
   "metadata": {},
   "source": [
    "# Dictionaries\n",
    "\n",
    "#### - Dictionaries are not in order\n",
    "#### - Can contain other datatypes\n",
    "#### - Have key/value pairs, which are mandatory\n",
    "#### - Indexing a dictionary is slightly difference from indexing a list, string, or tuple"
   ]
  },
  {
   "cell_type": "markdown",
   "metadata": {},
   "source": [
    "## Syntax"
   ]
  },
  {
   "cell_type": "code",
   "execution_count": 4,
   "metadata": {},
   "outputs": [],
   "source": [
    "our_class = {\n",
    "    \"language\": \"Python\",\n",
    "    \"start_time\": \"9:30AM\",\n",
    "    \"end_time\": \"4:30PM\",\n",
    "    \"students\": [\"Robert\", \"Jon\", \"Abe\"],\n",
    "    \"materials\": {\n",
    "        \"marker_color\": \"black\",\n",
    "        \"computer\": True,\n",
    "        \"OS\": ['MacOS', 'Linux', 'Windows']\n",
    "    }\n",
    "}"
   ]
  },
  {
   "cell_type": "markdown",
   "metadata": {},
   "source": [
    "## Indexing"
   ]
  },
  {
   "cell_type": "code",
   "execution_count": 6,
   "metadata": {},
   "outputs": [
    {
     "name": "stdout",
     "output_type": "stream",
     "text": [
      "Python\n",
      "Jon\n",
      "Linux\n"
     ]
    }
   ],
   "source": [
    "print(our_class[\"language\"])\n",
    "\n",
    "print(our_class[\"students\"][1])\n",
    "\n",
    "print(our_class[\"materials\"][\"OS\"][1])"
   ]
  },
  {
   "cell_type": "markdown",
   "metadata": {},
   "source": [
    "## Changing Values"
   ]
  },
  {
   "cell_type": "code",
   "execution_count": 7,
   "metadata": {},
   "outputs": [
    {
     "name": "stdout",
     "output_type": "stream",
     "text": [
      "{'language': 'C#', 'start_time': '9:30AM', 'end_time': '4:30PM', 'students': ['Robert', 'Jon', 'Abe'], 'materials': {'marker_color': 'black', 'computer': True, 'OS': ['MacOS', 'Linux', 'Windows']}}\n"
     ]
    }
   ],
   "source": [
    "our_class[\"language\"] = \"C#\"\n",
    "\n",
    "print(our_class)"
   ]
  },
  {
   "cell_type": "markdown",
   "metadata": {},
   "source": [
    "## Constructor"
   ]
  },
  {
   "cell_type": "code",
   "execution_count": 9,
   "metadata": {},
   "outputs": [
    {
     "name": "stdout",
     "output_type": "stream",
     "text": [
      "{'first_name': 'Derek', 'last_name': 'Hawkins', 'age': 30}\n"
     ]
    }
   ],
   "source": [
    "new_dictionary = dict(first_name=\"Derek\", last_name=\"Hawkins\", age=30)\n",
    "print(new_dictionary)"
   ]
  },
  {
   "cell_type": "markdown",
   "metadata": {},
   "source": [
    "## Adding Items"
   ]
  },
  {
   "cell_type": "code",
   "execution_count": 10,
   "metadata": {},
   "outputs": [
    {
     "name": "stdout",
     "output_type": "stream",
     "text": [
      "{'first_name': 'Derek', 'last_name': 'Hawkins', 'age': 30, 'location': 'Chicago'}\n"
     ]
    }
   ],
   "source": [
    "new_dictionary[\"location\"] = \"Chicago\"\n",
    "print(new_dictionary)"
   ]
  },
  {
   "cell_type": "markdown",
   "metadata": {},
   "source": [
    "## Remove Items"
   ]
  },
  {
   "cell_type": "code",
   "execution_count": 11,
   "metadata": {},
   "outputs": [
    {
     "name": "stdout",
     "output_type": "stream",
     "text": [
      "{'first_name': 'Derek', 'last_name': 'Hawkins', 'location': 'Chicago'}\n"
     ]
    }
   ],
   "source": [
    "del new_dictionary[\"age\"]\n",
    "\n",
    "print(new_dictionary)"
   ]
  },
  {
   "cell_type": "markdown",
   "metadata": {},
   "source": [
    "## Functions"
   ]
  },
  {
   "cell_type": "markdown",
   "metadata": {},
   "source": [
    "### .update()"
   ]
  },
  {
   "cell_type": "code",
   "execution_count": 24,
   "metadata": {},
   "outputs": [
    {
     "name": "stdout",
     "output_type": "stream",
     "text": [
      "{'name': 'Zara', 'age': 7, 'grade': 2, 'weight': '70lbs'}\n"
     ]
    }
   ],
   "source": [
    "dict1 = {\n",
    "    \"name\": \"Zara\",\n",
    "    \"age\": 7\n",
    "}\n",
    "\n",
    "dict2 = {\n",
    "    \"grade\": 2,\n",
    "    \"weight\": \"70lbs\"\n",
    "}\n",
    "\n",
    "dict1.update(dict2)\n",
    "print(dict1)\n",
    "# new_var = {**dict1, **dict2} # alternative\n",
    "# print(new_var)\n",
    "\n",
    "# print(dict1 - dict2) # Does not work"
   ]
  },
  {
   "cell_type": "markdown",
   "metadata": {},
   "source": [
    "### .str()"
   ]
  },
  {
   "cell_type": "code",
   "execution_count": 17,
   "metadata": {},
   "outputs": [
    {
     "data": {
      "text/plain": [
       "\"{'name': 'Zara', 'age': 7, 'grade': 2, 'weight': '70lbs'}\""
      ]
     },
     "execution_count": 17,
     "metadata": {},
     "output_type": "execute_result"
    }
   ],
   "source": [
    "str(dict1)"
   ]
  },
  {
   "cell_type": "markdown",
   "metadata": {},
   "source": [
    "### .length()"
   ]
  },
  {
   "cell_type": "code",
   "execution_count": 18,
   "metadata": {},
   "outputs": [
    {
     "data": {
      "text/plain": [
       "4"
      ]
     },
     "execution_count": 18,
     "metadata": {},
     "output_type": "execute_result"
    }
   ],
   "source": [
    "len(dict1)"
   ]
  },
  {
   "cell_type": "markdown",
   "metadata": {},
   "source": [
    "### .copy()"
   ]
  },
  {
   "cell_type": "code",
   "execution_count": 30,
   "metadata": {},
   "outputs": [
    {
     "name": "stdout",
     "output_type": "stream",
     "text": [
      "{'name': 'Zara', 'age': 7, 'grade': 2, 'weight': '70lbs', 'new': 'stuff'}\n",
      "{'name': 'Zara', 'age': 7, 'grade': 2, 'weight': '70lbs'}\n"
     ]
    }
   ],
   "source": [
    "new_dict1 = dict1.copy()\n",
    "\n",
    "new_dict1.update({\"new\": \"stuff\"})\n",
    "print(new_dict1)\n",
    "\n",
    "print(dict1)"
   ]
  },
  {
   "cell_type": "code",
   "execution_count": 29,
   "metadata": {},
   "outputs": [],
   "source": [
    "# my_other_dict = new_dict1[:] # Cannot use list slices on lists"
   ]
  },
  {
   "cell_type": "markdown",
   "metadata": {},
   "source": [
    "### .has_key() - Deprecated"
   ]
  },
  {
   "cell_type": "code",
   "execution_count": 37,
   "metadata": {},
   "outputs": [
    {
     "data": {
      "text/plain": [
       "False"
      ]
     },
     "execution_count": 37,
     "metadata": {},
     "output_type": "execute_result"
    }
   ],
   "source": [
    "\"Zara\" in dict1.items()"
   ]
  },
  {
   "cell_type": "markdown",
   "metadata": {},
   "source": [
    "### .pop()"
   ]
  },
  {
   "cell_type": "code",
   "execution_count": 20,
   "metadata": {
    "scrolled": true
   },
   "outputs": [
    {
     "data": {
      "text/plain": [
       "'Zara'"
      ]
     },
     "execution_count": 20,
     "metadata": {},
     "output_type": "execute_result"
    }
   ],
   "source": [
    "dict1.pop(\"name\")"
   ]
  },
  {
   "cell_type": "code",
   "execution_count": 21,
   "metadata": {},
   "outputs": [
    {
     "data": {
      "text/plain": [
       "{'age': 7, 'grade': 2, 'weight': '70lbs'}"
      ]
     },
     "execution_count": 21,
     "metadata": {},
     "output_type": "execute_result"
    }
   ],
   "source": [
    "dict1"
   ]
  },
  {
   "cell_type": "code",
   "execution_count": null,
   "metadata": {},
   "outputs": [],
   "source": []
  },
  {
   "cell_type": "markdown",
   "metadata": {},
   "source": [
    "## Packing and Unpacking"
   ]
  },
  {
   "cell_type": "code",
   "execution_count": 38,
   "metadata": {},
   "outputs": [
    {
     "name": "stdout",
     "output_type": "stream",
     "text": [
      "{'name': 'Derek', 'age': 30, 'language': 'English'}\n"
     ]
    }
   ],
   "source": [
    "def packer(**kwargs):\n",
    "    print(kwargs)\n",
    "    \n",
    "packer(name=\"Derek\", age=30, language=\"English\")"
   ]
  },
  {
   "cell_type": "code",
   "execution_count": 41,
   "metadata": {},
   "outputs": [
    {
     "name": "stdout",
     "output_type": "stream",
     "text": [
      "Have you no name??\n"
     ]
    }
   ],
   "source": [
    "def unpacker(first_name=None, last_name=None):\n",
    "    if first_name and last_name:\n",
    "        print(f\"Hello, {first_name} {last_name}!\")\n",
    "    else:\n",
    "        print(\"Have you no name??\")\n",
    "        \n",
    "unpacker()"
   ]
  },
  {
   "cell_type": "markdown",
   "metadata": {},
   "source": [
    "## Iteration"
   ]
  },
  {
   "cell_type": "code",
   "execution_count": 47,
   "metadata": {},
   "outputs": [
    {
     "name": "stdout",
     "output_type": "stream",
     "text": [
      "name Coding Temple\n",
      "founded 2015\n",
      "classes ['Python', 'C#']\n",
      "frameworks {'C#': ['Angular', '.NET'], 'Python': ['React', 'Flask']}\n"
     ]
    }
   ],
   "source": [
    "coding_temple = {\n",
    "    \"name\": \"Coding Temple\",\n",
    "    \"founded\": 2015,\n",
    "    \"classes\": [\"Python\", \"C#\"],\n",
    "    \"frameworks\": {\n",
    "        \"C#\": [\"Angular\", \".NET\"],\n",
    "        \"Python\": [\"React\", \"Flask\"]\n",
    "    }\n",
    "}\n",
    "\n",
    "# for k in coding_temple:\n",
    "#     print(k)\n",
    "\n",
    "# for v in coding_temple:\n",
    "#     print(coding_temple[v])\n",
    "\n",
    "# for k in coding_temple.keys():\n",
    "#     print(k)\n",
    "\n",
    "# for v in coding_temple.values():\n",
    "#     print(v)\n",
    "\n",
    "for k, v in coding_temple.items():\n",
    "    print(k, v)"
   ]
  },
  {
   "cell_type": "markdown",
   "metadata": {},
   "source": [
    "## Exercises"
   ]
  },
  {
   "cell_type": "markdown",
   "metadata": {},
   "source": [
    "#### Create a dictionary that represent a character in an MMPORG game.\n",
    "#### Your character must have a name, 3 lives, show all levels completed, and carrying a sword, a dagger and 2 potions: 5 health potions, 10 mana potions"
   ]
  },
  {
   "cell_type": "code",
   "execution_count": 58,
   "metadata": {},
   "outputs": [],
   "source": [
    "player = {\n",
    "    \"name\": \"Loktar\",\n",
    "    \"remaining_lives\": 3,\n",
    "    \"levels_completed\": [1, 2, 3, 4],\n",
    "    \"items\": {\n",
    "        \"weapons\": [\"Sword\", \"Dagger\"],\n",
    "        \"potions\": {\n",
    "            \"health\": 5,\n",
    "            \"mana\": 10\n",
    "        }\n",
    "    }\n",
    "}"
   ]
  },
  {
   "cell_type": "markdown",
   "metadata": {},
   "source": [
    "#### Present your player's information as follows:"
   ]
  },
  {
   "cell_type": "code",
   "execution_count": 68,
   "metadata": {
    "scrolled": true
   },
   "outputs": [
    {
     "name": "stdout",
     "output_type": "stream",
     "text": [
      "Name: Loktar \n",
      "Lives: 3 \n",
      "Current Level: 4 \n",
      "Weapons: Sword & Dagger \n",
      "Health Potions: 5 \n",
      "Mana Potions: 10\n"
     ]
    }
   ],
   "source": [
    "# Name: Derek\n",
    "# Lives: 3\n",
    "# Current Level: 4\n",
    "# Weapons: Sword & Dagger\n",
    "# Health Potion: 5\n",
    "# Mana Potion: 10\n",
    "\n",
    "# Name: {player['name']} \\n\n",
    "# Lives: {player['remaining_lives']} \\n\n",
    "# Current Level: {len(player['levels_completed'])} \\n\n",
    "# Weapons: {player['items']['weapons'][0]} & {player['items']['weapons'][1]} \\n\n",
    "# Health Potions: {player['items']['potions']['health']} \\n\n",
    "# Mana Potions: {player['items']['potions']['mana']}\n",
    "    \n",
    "print(f\"Name: {player['name']} \\nLives: {player['remaining_lives']} \\nCurrent Level: {len(player['levels_completed'])} \\nWeapons: {player['items']['weapons'][0]} & {player['items']['weapons'][1]} \\nHealth Potions: {player['items']['potions']['health']} \\nMana Potions: {player['items']['potions']['mana']}\")"
   ]
  },
  {
   "cell_type": "code",
   "execution_count": 72,
   "metadata": {},
   "outputs": [],
   "source": [
    "a_text = 'In computing, a computing hash table hash map is a data structure which implements an associative array abstract data type, a structure that can map keys to values. A hash table uses a hash function to compute an index into an array of buckets or slots from which the desired value can be found'"
   ]
  },
  {
   "cell_type": "code",
   "execution_count": 73,
   "metadata": {},
   "outputs": [
    {
     "data": {
      "text/plain": [
       "{'a': 5,\n",
       " 'abstract': 1,\n",
       " 'an': 3,\n",
       " 'array': 2,\n",
       " 'associative': 1,\n",
       " 'be': 1,\n",
       " 'buckets': 1,\n",
       " 'can': 2,\n",
       " 'compute': 1,\n",
       " 'computing': 1,\n",
       " 'computing,': 1,\n",
       " 'data': 2,\n",
       " 'desired': 1,\n",
       " 'found': 1,\n",
       " 'from': 1,\n",
       " 'function': 1,\n",
       " 'hash': 4,\n",
       " 'implements': 1,\n",
       " 'in': 1,\n",
       " 'index': 1,\n",
       " 'into': 1,\n",
       " 'is': 1,\n",
       " 'keys': 1,\n",
       " 'map': 2,\n",
       " 'of': 1,\n",
       " 'or': 1,\n",
       " 'slots': 1,\n",
       " 'structure': 2,\n",
       " 'table': 2,\n",
       " 'that': 1,\n",
       " 'the': 1,\n",
       " 'to': 2,\n",
       " 'type,': 1,\n",
       " 'uses': 1,\n",
       " 'value': 1,\n",
       " 'values.': 1,\n",
       " 'which': 2}"
      ]
     },
     "execution_count": 73,
     "metadata": {},
     "output_type": "execute_result"
    }
   ],
   "source": [
    "def word_freq(text):\n",
    "    a_dict = {}\n",
    "    for i in text.split():\n",
    "        i = i.lower()\n",
    "        if i in a_dict:\n",
    "            a_dict[i]+=1\n",
    "        else:\n",
    "            a_dict[i]=1\n",
    "    return a_dict\n",
    "\n",
    "word_freq(a_text)"
   ]
  },
  {
   "cell_type": "markdown",
   "metadata": {},
   "source": [
    "# Sets - unordered and unindexed collection"
   ]
  },
  {
   "cell_type": "markdown",
   "metadata": {},
   "source": [
    "#### set can only hold unique values\n",
    "#### only noted with their '{}' syntax"
   ]
  },
  {
   "cell_type": "markdown",
   "metadata": {},
   "source": [
    "## Syntax"
   ]
  },
  {
   "cell_type": "code",
   "execution_count": 78,
   "metadata": {},
   "outputs": [
    {
     "name": "stdout",
     "output_type": "stream",
     "text": [
      "{'pears', 'plums', 'apples', 'oranges'}\n"
     ]
    }
   ],
   "source": [
    "fruits = {\"apples\", \"apples\", \"oranges\", \"pears\", \"plums\"}\n",
    "print(fruits)"
   ]
  },
  {
   "cell_type": "markdown",
   "metadata": {},
   "source": [
    "## Constructor"
   ]
  },
  {
   "cell_type": "code",
   "execution_count": 82,
   "metadata": {},
   "outputs": [],
   "source": [
    "my_dict = {\n",
    "    \"name\": \"Derek\",\n",
    "    \"name\": \"Nancy\"\n",
    "}"
   ]
  },
  {
   "cell_type": "code",
   "execution_count": 83,
   "metadata": {},
   "outputs": [
    {
     "data": {
      "text/plain": [
       "'Nancy'"
      ]
     },
     "execution_count": 83,
     "metadata": {},
     "output_type": "execute_result"
    }
   ],
   "source": [
    "my_dict[\"name\"]"
   ]
  },
  {
   "cell_type": "code",
   "execution_count": 81,
   "metadata": {},
   "outputs": [
    {
     "data": {
      "text/plain": [
       "{'name', 'other_name'}"
      ]
     },
     "execution_count": 81,
     "metadata": {},
     "output_type": "execute_result"
    }
   ],
   "source": [
    "l_1 = [\"apples\", \"oranges\", \"pears\", \"plums\"]\n",
    "tup_1 = (\"apples\", \"oranges\", \"pears\", \"plums\")\n",
    "dict_1 = {\"name\": \"apples\", \"other_name\": \"pears\"}\n",
    "\n",
    "set(dict_1)"
   ]
  },
  {
   "cell_type": "markdown",
   "metadata": {},
   "source": [
    "## Methods"
   ]
  },
  {
   "cell_type": "markdown",
   "metadata": {},
   "source": [
    "### .add(value)"
   ]
  },
  {
   "cell_type": "code",
   "execution_count": 88,
   "metadata": {},
   "outputs": [
    {
     "name": "stdout",
     "output_type": "stream",
     "text": [
      "{'plums', 'oranges', 45, 'apples', 'pears'}\n"
     ]
    }
   ],
   "source": [
    "s_l_1 = set(l_1)\n",
    "\n",
    "s_l_1.add(45)\n",
    "\n",
    "print(s_l_1)"
   ]
  },
  {
   "cell_type": "markdown",
   "metadata": {},
   "source": [
    "### .update(set)"
   ]
  },
  {
   "cell_type": "code",
   "execution_count": 89,
   "metadata": {},
   "outputs": [
    {
     "name": "stdout",
     "output_type": "stream",
     "text": [
      "{'plums', 'rumble', 'man', 'oranges', 45, 'young', 'apples', 'pears'}\n"
     ]
    }
   ],
   "source": [
    "set_to_add = {\"rumble\", \"young\", \"man\", \"rumble\"}\n",
    "\n",
    "s_l_1.update(set_to_add)\n",
    "\n",
    "print(s_l_1)"
   ]
  },
  {
   "cell_type": "code",
   "execution_count": 90,
   "metadata": {},
   "outputs": [
    {
     "name": "stdout",
     "output_type": "stream",
     "text": [
      "{'plums', 'rumble', 'man', 'oranges', 'John', 1738, 45, 'young', 'apples', 'pears'}\n"
     ]
    }
   ],
   "source": [
    "s_l_1.update({1738, \"John\"})\n",
    "\n",
    "print(s_l_1)"
   ]
  },
  {
   "cell_type": "markdown",
   "metadata": {},
   "source": [
    "### .remove(value)"
   ]
  },
  {
   "cell_type": "code",
   "execution_count": 91,
   "metadata": {},
   "outputs": [
    {
     "name": "stdout",
     "output_type": "stream",
     "text": [
      "{'plums', 'rumble', 'man', 'oranges', 1738, 45, 'young', 'apples', 'pears'}\n"
     ]
    }
   ],
   "source": [
    "s_l_1.remove(\"John\")\n",
    "\n",
    "print(s_l_1)"
   ]
  },
  {
   "cell_type": "markdown",
   "metadata": {},
   "source": [
    "## Set Math"
   ]
  },
  {
   "cell_type": "code",
   "execution_count": 93,
   "metadata": {},
   "outputs": [
    {
     "name": "stdout",
     "output_type": "stream",
     "text": [
      "{1, 2, 3, 4, 5, 6, 7, 8, 9}\n"
     ]
    }
   ],
   "source": [
    "math_set = set(range(1, 10))\n",
    "print(math_set)"
   ]
  },
  {
   "cell_type": "markdown",
   "metadata": {},
   "source": [
    "### .union(set) - joins sets together"
   ]
  },
  {
   "cell_type": "code",
   "execution_count": 96,
   "metadata": {},
   "outputs": [
    {
     "name": "stdout",
     "output_type": "stream",
     "text": [
      "{1, 2, 3, 4, 5, 6, 7, 8, 9, 10, 11, 12, 13, 14, 15}\n"
     ]
    }
   ],
   "source": [
    "math_set_2 = set(range(5, 16))\n",
    "\n",
    "print(math_set.union(math_set_2))"
   ]
  },
  {
   "cell_type": "code",
   "execution_count": 97,
   "metadata": {},
   "outputs": [
    {
     "name": "stdout",
     "output_type": "stream",
     "text": [
      "{1, 2, 3, 4, 5, 6, 7, 8, 9, 10, 11, 12, 13, 14, 15}\n"
     ]
    }
   ],
   "source": [
    "print(math_set_2 | math_set)"
   ]
  },
  {
   "cell_type": "markdown",
   "metadata": {},
   "source": [
    "### .difference(set) - difference between the first set as opposed to the 2nd set"
   ]
  },
  {
   "cell_type": "code",
   "execution_count": 99,
   "metadata": {},
   "outputs": [
    {
     "name": "stdout",
     "output_type": "stream",
     "text": [
      "{1, 2, 3, 4}\n"
     ]
    }
   ],
   "source": [
    "print(math_set.difference(math_set_2))"
   ]
  },
  {
   "cell_type": "code",
   "execution_count": 100,
   "metadata": {},
   "outputs": [
    {
     "name": "stdout",
     "output_type": "stream",
     "text": [
      "{10, 11, 12, 13, 14, 15}\n"
     ]
    }
   ],
   "source": [
    "print(math_set_2 - math_set)"
   ]
  },
  {
   "cell_type": "markdown",
   "metadata": {},
   "source": [
    "### .symmetric_difference(set) - checks for differences between both sets"
   ]
  },
  {
   "cell_type": "code",
   "execution_count": 102,
   "metadata": {},
   "outputs": [
    {
     "name": "stdout",
     "output_type": "stream",
     "text": [
      "{1, 2, 3, 4, 10, 11, 12, 13, 14, 15}\n"
     ]
    }
   ],
   "source": [
    "print(math_set.symmetric_difference(math_set_2))"
   ]
  },
  {
   "cell_type": "code",
   "execution_count": 103,
   "metadata": {},
   "outputs": [
    {
     "name": "stdout",
     "output_type": "stream",
     "text": [
      "{1, 2, 3, 4, 10, 11, 12, 13, 14, 15}\n"
     ]
    }
   ],
   "source": [
    "print(math_set_2 ^ math_set)"
   ]
  },
  {
   "cell_type": "markdown",
   "metadata": {},
   "source": [
    "### .intersection(set) - checks for commonality"
   ]
  },
  {
   "cell_type": "code",
   "execution_count": 104,
   "metadata": {},
   "outputs": [
    {
     "name": "stdout",
     "output_type": "stream",
     "text": [
      "{5, 6, 7, 8, 9}\n"
     ]
    }
   ],
   "source": [
    "print(math_set.intersection(math_set_2))"
   ]
  },
  {
   "cell_type": "code",
   "execution_count": 105,
   "metadata": {},
   "outputs": [
    {
     "name": "stdout",
     "output_type": "stream",
     "text": [
      "{5, 6, 7, 8, 9}\n"
     ]
    }
   ],
   "source": [
    "print(math_set_2 & math_set)"
   ]
  },
  {
   "cell_type": "markdown",
   "metadata": {},
   "source": [
    "## Exercises"
   ]
  },
  {
   "cell_type": "markdown",
   "metadata": {},
   "source": [
    "#### Create a function that returns a list of all unique/distinct words"
   ]
  },
  {
   "cell_type": "code",
   "execution_count": null,
   "metadata": {},
   "outputs": [],
   "source": [
    "a_text = 'In computing, a hash table hash map is a data structure which implements an associative array abstract data type, a structure that can map keys to values. A hash table uses a hash function to compute an index into an array of buckets or slots from which the desired value can be found'"
   ]
  },
  {
   "cell_type": "code",
   "execution_count": 106,
   "metadata": {},
   "outputs": [
    {
     "data": {
      "text/plain": [
       "{'A',\n",
       " 'In',\n",
       " 'a',\n",
       " 'abstract',\n",
       " 'an',\n",
       " 'array',\n",
       " 'associative',\n",
       " 'be',\n",
       " 'buckets',\n",
       " 'can',\n",
       " 'compute',\n",
       " 'computing',\n",
       " 'computing,',\n",
       " 'data',\n",
       " 'desired',\n",
       " 'found',\n",
       " 'from',\n",
       " 'function',\n",
       " 'hash',\n",
       " 'implements',\n",
       " 'index',\n",
       " 'into',\n",
       " 'is',\n",
       " 'keys',\n",
       " 'map',\n",
       " 'of',\n",
       " 'or',\n",
       " 'slots',\n",
       " 'structure',\n",
       " 'table',\n",
       " 'that',\n",
       " 'the',\n",
       " 'to',\n",
       " 'type,',\n",
       " 'uses',\n",
       " 'value',\n",
       " 'values.',\n",
       " 'which'}"
      ]
     },
     "execution_count": 106,
     "metadata": {},
     "output_type": "execute_result"
    }
   ],
   "source": [
    "a_list = a_text.split()\n",
    "set(a_list)"
   ]
  },
  {
   "cell_type": "markdown",
   "metadata": {},
   "source": [
    "#### Shopping Cart Program Refactoring:\n",
    "#### 1) If you add an identical item to the shopping cart, make sure you keep track of the numbers of items. \n",
    "##### For example: If you try to add an identical item, create a prompt that says, \"This item already exists. Would you like to add an additional item? y/N\""
   ]
  }
 ],
 "metadata": {
  "kernelspec": {
   "display_name": "Python 3",
   "language": "python",
   "name": "python3"
  },
  "language_info": {
   "codemirror_mode": {
    "name": "ipython",
    "version": 3
   },
   "file_extension": ".py",
   "mimetype": "text/x-python",
   "name": "python",
   "nbconvert_exporter": "python",
   "pygments_lexer": "ipython3",
   "version": "3.6.4"
  }
 },
 "nbformat": 4,
 "nbformat_minor": 2
}
