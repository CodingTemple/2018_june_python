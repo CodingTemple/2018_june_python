{
 "cells": [
  {
   "cell_type": "markdown",
   "metadata": {},
   "source": [
    "# Syntax"
   ]
  },
  {
   "cell_type": "markdown",
   "metadata": {},
   "source": [
    "#### Python is a very simple language. Unlike lower-level languages like C++ where things are done manually, in Python a lot of the hard stuff is done for you."
   ]
  },
  {
   "cell_type": "markdown",
   "metadata": {},
   "source": [
    "### Indentation"
   ]
  },
  {
   "cell_type": "markdown",
   "metadata": {},
   "source": [
    "#### Indentation is the single-most important thing to know about Python. Unlike HTML and CSS, you can't just throw it together and expect it to work. Without proper indentation, your code WILL NOT WORK. This is intentional and by design, because it helps prevent poorly written code."
   ]
  },
  {
   "cell_type": "markdown",
   "metadata": {},
   "source": [
    "### Running Python"
   ]
  },
  {
   "cell_type": "markdown",
   "metadata": {},
   "source": [
    "#### When building software in Python, you'll more than likely use a text editor (Atom, Brackets, Visual Studio Code) or an IDE (Integrated Development Environment i.e. PyCharm). Python files will ONLY run when those files have a '.py' extension. In Jupyter Notebook, however, it's as simple as pressiong Ctrl + Enter on PC/MacOS."
   ]
  },
  {
   "cell_type": "markdown",
   "metadata": {},
   "source": [
    "# Variables and Datatypes"
   ]
  },
  {
   "cell_type": "markdown",
   "metadata": {},
   "source": [
    "### Variables"
   ]
  },
  {
   "cell_type": "markdown",
   "metadata": {},
   "source": [
    "#### This is the basic syntax of a variable declaration:"
   ]
  },
  {
   "cell_type": "code",
   "execution_count": 1,
   "metadata": {},
   "outputs": [],
   "source": [
    "myVar = \"This is a variable\""
   ]
  },
  {
   "cell_type": "markdown",
   "metadata": {},
   "source": [
    "#### Above is an example of variable assignment. The name of the variable is on the left of the equal sign while the assignment of the variable is on the right.\n",
    "\n",
    "#### If you notice, this variable naming convention is referred to as Camel Case. This is done when you want to use a descriptive name for your variable If two words can describe your variable, the first letter of the first word will be lowercase and the first letter of the next word(s) will be uppercase. 'thisIsMyVariable' is  a perfectly valid variable naming convention.\n",
    "\n",
    "#### When referencing variables later in your application, you must refer to them in the case that you declared them in.\n",
    "\n",
    "#### Please note that variables can ONLY begin with either a letter or an underscore."
   ]
  },
  {
   "cell_type": "markdown",
   "metadata": {},
   "source": [
    "### Datatypes"
   ]
  },
  {
   "cell_type": "markdown",
   "metadata": {},
   "source": [
    "#### Python supports these following datatypes:\n",
    "#### - booleans (True of False)\n",
    "#### - integers (negative or positive whole numbers)\n",
    "#### - floats (numbers with decimals)\n",
    "#### - strings (a grouping of alphanumeric and/or special characters wrapped inside of either single quotes or double quotes)\n",
    "#### - lists (any combination of datatypes separated by commas)\n",
    "#### - objects (a blueprint of variables and methods which create a single entity)\n",
    "#### - None (None is an object that signifies the object has no value)"
   ]
  },
  {
   "cell_type": "markdown",
   "metadata": {},
   "source": [
    "# Operators and Mathematics"
   ]
  },
  {
   "cell_type": "markdown",
   "metadata": {},
   "source": [
    "#### Just like with any programming language, you are able to perform arithmetic\n",
    "\n",
    "#### You can perform addition, subtraction, multiplication, check for remainders and true division, or floor division.\n",
    "\n",
    "#### Floor division divides the equation down to an integer. True division divides the equation down to a float. For example:"
   ]
  },
  {
   "cell_type": "code",
   "execution_count": 4,
   "metadata": {},
   "outputs": [
    {
     "data": {
      "text/plain": [
       "1.6666666666666667"
      ]
     },
     "execution_count": 4,
     "metadata": {},
     "output_type": "execute_result"
    }
   ],
   "source": [
    "# True Division\n",
    "5 / 3"
   ]
  },
  {
   "cell_type": "code",
   "execution_count": 5,
   "metadata": {},
   "outputs": [
    {
     "data": {
      "text/plain": [
       "1"
      ]
     },
     "execution_count": 5,
     "metadata": {},
     "output_type": "execute_result"
    }
   ],
   "source": [
    "# Floor Division\n",
    "5 // 3"
   ]
  },
  {
   "cell_type": "markdown",
   "metadata": {},
   "source": [
    "#### Checking for remainders is done by using the modulo (%) operator "
   ]
  },
  {
   "cell_type": "code",
   "execution_count": 7,
   "metadata": {},
   "outputs": [
    {
     "data": {
      "text/plain": [
       "2"
      ]
     },
     "execution_count": 7,
     "metadata": {},
     "output_type": "execute_result"
    }
   ],
   "source": [
    "5 % 3"
   ]
  },
  {
   "cell_type": "markdown",
   "metadata": {},
   "source": [
    "#### Some of the most commonly used math functions in Python are: max(), min(), count(), ceil(), floor(), etc. You can find other math functions at: https://docs.python.org/3/library/functions.html"
   ]
  },
  {
   "cell_type": "markdown",
   "metadata": {},
   "source": [
    "# String"
   ]
  },
  {
   "cell_type": "markdown",
   "metadata": {},
   "source": [
    "#### As mentioned before, declaring strings is as simple as assigning a variable to a combination of alphanumeric values & special characters inset of a pair of single quotes or double quotes. Both of the following examples are valid:"
   ]
  },
  {
   "cell_type": "code",
   "execution_count": 8,
   "metadata": {},
   "outputs": [],
   "source": [
    "myString = 'This is a string'\n",
    "\n",
    "myOtherString = \"This is a string as well\""
   ]
  },
  {
   "cell_type": "markdown",
   "metadata": {},
   "source": [
    "#### Make note that, in the event of the use of an apostrophe within a string, you must either use the escape character, or simply define your string  using double quotes, so Python will interpret your code properly. If this is not done, you will receive an error:"
   ]
  },
  {
   "cell_type": "code",
   "execution_count": 13,
   "metadata": {},
   "outputs": [
    {
     "ename": "SyntaxError",
     "evalue": "invalid syntax (<ipython-input-13-1aca7fbedecd>, line 7)",
     "output_type": "error",
     "traceback": [
      "\u001b[0;36m  File \u001b[0;32m\"<ipython-input-13-1aca7fbedecd>\"\u001b[0;36m, line \u001b[0;32m7\u001b[0m\n\u001b[0;31m    invalidString = 'This is Derek's string as well'\u001b[0m\n\u001b[0m                                   ^\u001b[0m\n\u001b[0;31mSyntaxError\u001b[0m\u001b[0;31m:\u001b[0m invalid syntax\n"
     ]
    }
   ],
   "source": [
    "validString = \"This is Derek's string\" # Valid\n",
    "\n",
    "anotherValidString = 'This is also Derek\\'s string' # This is also valid\n",
    "\n",
    "print(anotherValidString)\n",
    "\n",
    "invalidString = 'This is Derek's string as well'"
   ]
  },
  {
   "cell_type": "markdown",
   "metadata": {},
   "source": [
    "# Arrays"
   ]
  },
  {
   "cell_type": "markdown",
   "metadata": {},
   "source": [
    "#### Interchangeably, also more popularly known as Lists, arrays are a combination of datatypes separated by commas and enclosed inside of square brackets "
   ]
  },
  {
   "cell_type": "code",
   "execution_count": 18,
   "metadata": {},
   "outputs": [],
   "source": [
    "myList = [1, 'Coding Temple', (1, 2), {3, 67, 12}, [54, 'More shit', 12], 1.23, True]"
   ]
  },
  {
   "cell_type": "markdown",
   "metadata": {},
   "source": [
    "#### You can access the index of a list by referencing the list variable followed by a number wrapped inside of square brackets"
   ]
  },
  {
   "cell_type": "code",
   "execution_count": 20,
   "metadata": {},
   "outputs": [
    {
     "data": {
      "text/plain": [
       "(1, 2)"
      ]
     },
     "execution_count": 20,
     "metadata": {},
     "output_type": "execute_result"
    }
   ],
   "source": [
    "myList[2]"
   ]
  },
  {
   "cell_type": "markdown",
   "metadata": {},
   "source": [
    "# Conditionals"
   ]
  },
  {
   "cell_type": "markdown",
   "metadata": {},
   "source": [
    "#### The power of computing lies in binary; 1s and 0s. Binary is the building block of all programming languages. Since 'bi' means two, this means that every statement and every expression will evaluate to either True or False; booleans. All statements and expressions will only evaluate if they are True. Conditional statements essentially boil down to two parts: the condition to check for, the statement to evaluate based on the condition"
   ]
  },
  {
   "cell_type": "code",
   "execution_count": 24,
   "metadata": {},
   "outputs": [
    {
     "name": "stdout",
     "output_type": "stream",
     "text": [
      "I work for Coding Temple\n"
     ]
    }
   ],
   "source": [
    "myCompany = \"Coding Temple\"\n",
    "\n",
    "if myCompany == \"Coding Temple\":\n",
    "    print(\"I work for Coding Temple\")"
   ]
  },
  {
   "cell_type": "markdown",
   "metadata": {},
   "source": [
    "#### You can use if/else-statements to check more than one condition instead of writing multiple if-statements"
   ]
  },
  {
   "cell_type": "code",
   "execution_count": 28,
   "metadata": {},
   "outputs": [
    {
     "name": "stdout",
     "output_type": "stream",
     "text": [
      "I do not work for Coding Temple. I work for Coding Dojo\n"
     ]
    }
   ],
   "source": [
    "myCompany = \"Coding Dojo\"\n",
    "\n",
    "if myCompany == \"Coding Temple\":\n",
    "    print(\"I work for {}\".format(myCompany))\n",
    "else:\n",
    "    print(f\"I do not work for Coding Temple. I work for {myCompany}\")"
   ]
  },
  {
   "cell_type": "markdown",
   "metadata": {},
   "source": [
    "#### Alternatively, you can use if/elif/else-statements to check for more than 2 conditions:"
   ]
  },
  {
   "cell_type": "code",
   "execution_count": 31,
   "metadata": {},
   "outputs": [
    {
     "name": "stdout",
     "output_type": "stream",
     "text": [
      "If it don't apply, let it fly.\n",
      "2 is divisible by 2\n",
      "3 is divisible by 3\n",
      "4 is divisible by 2\n",
      "5 is divisible by 5\n",
      "6 is divisible by 3\n",
      "If it don't apply, let it fly.\n",
      "8 is divisible by 2\n",
      "9 is divisible by 3\n",
      "10 is divisible by 2\n",
      "If it don't apply, let it fly.\n",
      "12 is divisible by 3\n",
      "If it don't apply, let it fly.\n",
      "14 is divisible by 2\n",
      "15 is divisible by 3\n",
      "16 is divisible by 2\n",
      "If it don't apply, let it fly.\n",
      "18 is divisible by 3\n",
      "If it don't apply, let it fly.\n",
      "20 is divisible by 2\n",
      "21 is divisible by 3\n",
      "22 is divisible by 2\n",
      "If it don't apply, let it fly.\n",
      "24 is divisible by 3\n",
      "25 is divisible by 5\n",
      "26 is divisible by 2\n",
      "27 is divisible by 3\n",
      "28 is divisible by 2\n",
      "If it don't apply, let it fly.\n",
      "30 is divisible by 3\n",
      "If it don't apply, let it fly.\n",
      "32 is divisible by 2\n",
      "33 is divisible by 3\n",
      "34 is divisible by 2\n",
      "35 is divisible by 5\n",
      "36 is divisible by 3\n",
      "If it don't apply, let it fly.\n",
      "38 is divisible by 2\n",
      "39 is divisible by 3\n",
      "40 is divisible by 2\n",
      "If it don't apply, let it fly.\n",
      "42 is divisible by 3\n",
      "If it don't apply, let it fly.\n",
      "44 is divisible by 2\n",
      "45 is divisible by 3\n",
      "46 is divisible by 2\n",
      "If it don't apply, let it fly.\n",
      "48 is divisible by 3\n",
      "If it don't apply, let it fly.\n",
      "50 is divisible by 2\n",
      "51 is divisible by 3\n",
      "52 is divisible by 2\n",
      "If it don't apply, let it fly.\n",
      "54 is divisible by 3\n",
      "55 is divisible by 5\n",
      "56 is divisible by 2\n",
      "57 is divisible by 3\n",
      "58 is divisible by 2\n",
      "If it don't apply, let it fly.\n",
      "60 is divisible by 3\n",
      "If it don't apply, let it fly.\n",
      "62 is divisible by 2\n",
      "63 is divisible by 3\n",
      "64 is divisible by 2\n",
      "65 is divisible by 5\n",
      "66 is divisible by 3\n",
      "If it don't apply, let it fly.\n",
      "68 is divisible by 2\n",
      "69 is divisible by 3\n",
      "70 is divisible by 2\n",
      "If it don't apply, let it fly.\n",
      "72 is divisible by 3\n",
      "If it don't apply, let it fly.\n",
      "74 is divisible by 2\n",
      "75 is divisible by 3\n",
      "76 is divisible by 2\n",
      "If it don't apply, let it fly.\n",
      "78 is divisible by 3\n",
      "If it don't apply, let it fly.\n",
      "80 is divisible by 2\n",
      "81 is divisible by 3\n",
      "82 is divisible by 2\n",
      "If it don't apply, let it fly.\n",
      "84 is divisible by 3\n",
      "85 is divisible by 5\n",
      "86 is divisible by 2\n",
      "87 is divisible by 3\n",
      "88 is divisible by 2\n",
      "If it don't apply, let it fly.\n",
      "90 is divisible by 3\n",
      "If it don't apply, let it fly.\n",
      "92 is divisible by 2\n",
      "93 is divisible by 3\n",
      "94 is divisible by 2\n",
      "95 is divisible by 5\n",
      "96 is divisible by 3\n",
      "If it don't apply, let it fly.\n",
      "98 is divisible by 2\n",
      "99 is divisible by 3\n",
      "100 is divisible by 2\n"
     ]
    }
   ],
   "source": [
    "for i in range(1, 101):\n",
    "    if i%3==0:\n",
    "        print(f\"{i} is divisible by 3\")\n",
    "    elif i%2==0:\n",
    "        print(f\"{i} is divisible by 2\")\n",
    "    elif i%5==0:\n",
    "        print(f\"{i} is divisible by 5\")\n",
    "    else:\n",
    "        print(\"If it don't apply, let it fly.\")"
   ]
  },
  {
   "cell_type": "markdown",
   "metadata": {},
   "source": [
    "# Loops"
   ]
  },
  {
   "cell_type": "markdown",
   "metadata": {},
   "source": [
    "#### In a basic sense, loops traverse through the length of a string, list, etc. You can use for-loops, or while-loops. The difference is in the syntax:"
   ]
  },
  {
   "cell_type": "code",
   "execution_count": 36,
   "metadata": {},
   "outputs": [
    {
     "name": "stdout",
     "output_type": "stream",
     "text": [
      "Ripal\n",
      "Frank\n",
      "Ryan\n",
      "Connor\n",
      "Jordan\n"
     ]
    }
   ],
   "source": [
    "employees = [\"Ripal\", \"Frank\", \"Ryan\", \"Connor\", \"Jordan\"]\n",
    "\n",
    "for i in range(0, len(employees)):\n",
    "    print(employees[i])"
   ]
  },
  {
   "cell_type": "code",
   "execution_count": 39,
   "metadata": {},
   "outputs": [
    {
     "name": "stdout",
     "output_type": "stream",
     "text": [
      "Ripal\n",
      "Frank\n",
      "Ryan\n",
      "Connor\n",
      "Jordan\n"
     ]
    }
   ],
   "source": [
    "for i in employees:\n",
    "    print(i)"
   ]
  },
  {
   "cell_type": "markdown",
   "metadata": {},
   "source": [
    "#### With while-loops, you must create a condition for it to end. Otherwise you will create an infinite loop and will either need to restart your script, or shut down the server and restart it to fix the issue."
   ]
  },
  {
   "cell_type": "code",
   "execution_count": 42,
   "metadata": {},
   "outputs": [
    {
     "name": "stdout",
     "output_type": "stream",
     "text": [
      "Hello\n",
      "Hello\n",
      "Hello\n",
      "Hello\n",
      "Hello\n",
      "Hello\n",
      "Hello\n",
      "Hello\n",
      "Hello\n",
      "Hello\n"
     ]
    }
   ],
   "source": [
    "stop = 1\n",
    "\n",
    "while stop <= 10:\n",
    "#     stop = stop + 1\n",
    "    stop+=1\n",
    "    print(\"Hello\")"
   ]
  },
  {
   "cell_type": "markdown",
   "metadata": {},
   "source": [
    "# Functions"
   ]
  },
  {
   "cell_type": "markdown",
   "metadata": {},
   "source": [
    "#### Either functions can be defined to work standalone, or they can be defined to use \"helpers\" for them to run properly. These helpers are called 'arguments'."
   ]
  },
  {
   "cell_type": "code",
   "execution_count": 4,
   "metadata": {},
   "outputs": [
    {
     "name": "stdout",
     "output_type": "stream",
     "text": [
      "Derek\n",
      "Abe\n"
     ]
    }
   ],
   "source": [
    "def showName():\n",
    "    print(\"Derek\")\n",
    "    \n",
    "showName()\n",
    "\n",
    "def showName2(name):\n",
    "    print(name)\n",
    "    \n",
    "showName2(\"Abe\")"
   ]
  },
  {
   "cell_type": "markdown",
   "metadata": {},
   "source": [
    "#### All functions MUST return something"
   ]
  },
  {
   "cell_type": "code",
   "execution_count": 5,
   "metadata": {},
   "outputs": [
    {
     "data": {
      "text/plain": [
       "'Hello'"
      ]
     },
     "execution_count": 5,
     "metadata": {},
     "output_type": "execute_result"
    }
   ],
   "source": [
    "def printStuff(statement):\n",
    "    return statement\n",
    "\n",
    "printStuff(\"Hello\")"
   ]
  }
 ],
 "metadata": {
  "kernelspec": {
   "display_name": "Python 3",
   "language": "python",
   "name": "python3"
  },
  "language_info": {
   "codemirror_mode": {
    "name": "ipython",
    "version": 3
   },
   "file_extension": ".py",
   "mimetype": "text/x-python",
   "name": "python",
   "nbconvert_exporter": "python",
   "pygments_lexer": "ipython3",
   "version": "3.6.4"
  }
 },
 "nbformat": 4,
 "nbformat_minor": 2
}
