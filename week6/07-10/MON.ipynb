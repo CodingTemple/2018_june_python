{
 "cells": [
  {
   "cell_type": "markdown",
   "metadata": {},
   "source": [
    "## by mo"
   ]
  },
  {
   "cell_type": "markdown",
   "metadata": {},
   "source": [
    "# Section I - python collections"
   ]
  },
  {
   "cell_type": "markdown",
   "metadata": {},
   "source": [
    "## two way to import"
   ]
  },
  {
   "cell_type": "code",
   "execution_count": 18,
   "metadata": {},
   "outputs": [
    {
     "data": {
      "text/plain": [
       "deque([2, 'dd'])"
      ]
     },
     "execution_count": 18,
     "metadata": {},
     "output_type": "execute_result"
    }
   ],
   "source": [
    "from collections import deque, defaultdict, Counter\n",
    "import collections\n",
    "\n",
    "d = collections.deque([3,2,'dd'])\n",
    "d.popleft()\n",
    "d"
   ]
  },
  {
   "cell_type": "markdown",
   "metadata": {},
   "source": [
    "## deque"
   ]
  },
  {
   "cell_type": "markdown",
   "metadata": {},
   "source": [
    "Given a stream of integers and a window size, calculate the moving average of all integers in the sliding window.\n",
    "\n",
    "For example\n",
    "\n",
    "MovingAverage m = new MovingAverage(3);\n",
    "\n",
    "m.next(1) = 1\n",
    "\n",
    "m.next(10) = (1 + 10) / 2\n",
    "\n",
    "m.next(3) = (1 + 10 + 3) / 3\n",
    "\n",
    "m.next(5) = (10 + 3 + 5) / 3\n"
   ]
  },
  {
   "cell_type": "code",
   "execution_count": 13,
   "metadata": {},
   "outputs": [
    {
     "name": "stdout",
     "output_type": "stream",
     "text": [
      "(deque([40]), 40.0)\n",
      "(deque([40, 30]), 35.0)\n",
      "(deque([40, 30, 50]), 40.0)\n",
      "(deque([30, 50, 46]), 42.0)\n",
      "(deque([50, 46, 39]), 45.0)\n",
      "(deque([46, 39, 44]), 43.0)\n"
     ]
    }
   ],
   "source": [
    "class MovingAverage():\n",
    "\n",
    "    def __init__(self, size):\n",
    "        \"\"\"\n",
    "        Initialize your data structure here.\n",
    "        :type size: int\n",
    "        \"\"\"\n",
    "        \n",
    "        self.q = collections.deque()\n",
    "        self.size = size\n",
    "        self.summ=0\n",
    "        \n",
    "    def next(self, val):\n",
    "        self.q.append(val)\n",
    "        if len(self.q)>self.size:\n",
    "            self.q.popleft()\n",
    "        return self.q, sum(self.q)/len(self.q)\n",
    "        \n",
    "    def next2(self, val):\n",
    "        \"\"\"\n",
    "        :type val: int\n",
    "        :rtype: float\n",
    "        \"\"\"\n",
    "        if len(self.q)==self.size:\n",
    "            self.summ -= self.q.popleft()\n",
    "        self.q.append(val)\n",
    "        self.summ+=val\n",
    "        \n",
    "        return self.summ/float(len(self.q))\n",
    "\n",
    "# Your MovingAverage object will be instantiated and called as such:\n",
    "obj = MovingAverage(3)\n",
    "for val in [40, 30, 50, 46, 39, 44]:\n",
    "    print(obj.next(val))"
   ]
  },
  {
   "cell_type": "code",
   "execution_count": 14,
   "metadata": {},
   "outputs": [],
   "source": [
    "# MA without padding\n",
    "# moving_average([40, 30, 50, 46, 39, 44]) --> 40.0 42.0 45.0 43.0\n",
    "# http://en.wikipedia.org/wiki/Moving_average\n",
    "import itertools\n",
    "def moving_average(iterable, n=3):\n",
    "    it = iter(iterable)\n",
    "    d = deque(itertools.islice(it, n-1))\n",
    "    d.appendleft(0)\n",
    "    s = sum(d)\n",
    "    for elem in it:\n",
    "        s += elem - d.popleft()\n",
    "        d.append(elem)\n",
    "        yield s / float(n)"
   ]
  },
  {
   "cell_type": "code",
   "execution_count": 52,
   "metadata": {},
   "outputs": [
    {
     "data": {
      "text/plain": [
       "[40.0, 42.0, 45.0, 43.0]"
      ]
     },
     "execution_count": 52,
     "metadata": {},
     "output_type": "execute_result"
    }
   ],
   "source": [
    "list(moving_average([40, 30, 50, 46, 39, 44]))"
   ]
  },
  {
   "cell_type": "markdown",
   "metadata": {},
   "source": [
    "## Counter"
   ]
  },
  {
   "cell_type": "code",
   "execution_count": 24,
   "metadata": {},
   "outputs": [],
   "source": [
    "text = '''\n",
    "When I wake up, wash my face, dress up, eat, \n",
    "while I am walking, driving, during the work, when I am alone, \n",
    "In my dreams. Your face is always in front of me, and It never left my mind.\n",
    "\n",
    "I have solid data analysis knowledge and years of professional practice in software engineering. \n",
    "My experience covers using Python, Swift, SQL, C#, R, and other languages on top of most popular frameworks. \n",
    "I have delivered several enterprise web applications and business mobile apps on app stores. \n",
    "I am a hard worker with great learning skills. I have an enthusiastic heart for data science and IT industries. \n",
    "'''"
   ]
  },
  {
   "cell_type": "code",
   "execution_count": 3,
   "metadata": {
    "collapsed": false,
    "inputHidden": false,
    "outputHidden": false
   },
   "outputs": [
    {
     "name": "stdout",
     "output_type": "stream",
     "text": [
      "{'When': 1, 'I': 7, 'wake': 1, 'up,': 2, 'wash': 1, 'my': 3, 'face,': 1, 'dress': 1, 'eat,': 1, 'while': 1, 'am': 3, 'walking,': 1, 'driving,': 1, 'during': 1, 'the': 1, 'work,': 1, 'when': 1, 'alone,': 1, 'In': 1, 'dreams.': 1, 'Your': 1, 'face': 1, 'is': 1, 'always': 1, 'in': 2, 'front': 1, 'of': 3, 'me,': 1, 'and': 5, 'It': 1, 'never': 1, 'left': 1, 'mind.': 1, 'have': 3, 'solid': 1, 'data': 2, 'analysis': 1, 'knowledge': 1, 'years': 1, 'professional': 1, 'practice': 1, 'software': 1, 'engineering.': 1, 'My': 1, 'experience': 1, 'covers': 1, 'using': 1, 'Python,': 1, 'Swift,': 1, 'SQL,': 1, 'C#,': 1, 'R,': 1, 'other': 1, 'languages': 1, 'on': 2, 'top': 1, 'most': 1, 'popular': 1, 'frameworks.': 1, 'delivered': 1, 'several': 1, 'enterprise': 1, 'web': 1, 'applications': 1, 'business': 1, 'mobile': 1, 'apps': 1, 'app': 1, 'stores.': 1, 'a': 1, 'hard': 1, 'worker': 1, 'with': 1, 'great': 1, 'learning': 1, 'skills.': 1, 'an': 1, 'enthusiastic': 1, 'heart': 1, 'for': 1, 'science': 1, 'IT': 1, 'industries.': 1}\n"
     ]
    }
   ],
   "source": [
    "d ={}\n",
    "for w in text.split():\n",
    "   if w in d:\n",
    "       d[w]=d[w]+1\n",
    "   else:\n",
    "       d[w]=1\n",
    "print(d)"
   ]
  },
  {
   "cell_type": "code",
   "execution_count": 54,
   "metadata": {},
   "outputs": [],
   "source": [
    "c = Counter(text.split())"
   ]
  },
  {
   "cell_type": "code",
   "execution_count": 55,
   "metadata": {},
   "outputs": [
    {
     "data": {
      "text/plain": [
       "(Counter({'C#,': 1,\n",
       "          'I': 7,\n",
       "          'IT': 1,\n",
       "          'In': 1,\n",
       "          'It': 1,\n",
       "          'My': 1,\n",
       "          'Python,': 1,\n",
       "          'R,': 1,\n",
       "          'SQL,': 1,\n",
       "          'Swift,': 1,\n",
       "          'When': 1,\n",
       "          'Your': 1,\n",
       "          'a': 1,\n",
       "          'alone,': 1,\n",
       "          'always': 1,\n",
       "          'am': 3,\n",
       "          'an': 1,\n",
       "          'analysis': 1,\n",
       "          'and': 5,\n",
       "          'app': 1,\n",
       "          'applications': 1,\n",
       "          'apps': 1,\n",
       "          'business': 1,\n",
       "          'covers': 1,\n",
       "          'data': 2,\n",
       "          'delivered': 1,\n",
       "          'dreams.': 1,\n",
       "          'dress': 1,\n",
       "          'driving,': 1,\n",
       "          'during': 1,\n",
       "          'eat,': 1,\n",
       "          'engineering.': 1,\n",
       "          'enterprise': 1,\n",
       "          'enthusiastic': 1,\n",
       "          'experience': 1,\n",
       "          'face': 1,\n",
       "          'face,': 1,\n",
       "          'for': 1,\n",
       "          'frameworks.': 1,\n",
       "          'front': 1,\n",
       "          'great': 1,\n",
       "          'hard': 1,\n",
       "          'have': 3,\n",
       "          'heart': 1,\n",
       "          'in': 2,\n",
       "          'industries.': 1,\n",
       "          'is': 1,\n",
       "          'knowledge': 1,\n",
       "          'languages': 1,\n",
       "          'learning': 1,\n",
       "          'left': 1,\n",
       "          'me,': 1,\n",
       "          'mind.': 1,\n",
       "          'mobile': 1,\n",
       "          'most': 1,\n",
       "          'my': 3,\n",
       "          'never': 1,\n",
       "          'of': 3,\n",
       "          'on': 2,\n",
       "          'other': 1,\n",
       "          'popular': 1,\n",
       "          'practice': 1,\n",
       "          'professional': 1,\n",
       "          'science': 1,\n",
       "          'several': 1,\n",
       "          'skills.': 1,\n",
       "          'software': 1,\n",
       "          'solid': 1,\n",
       "          'stores.': 1,\n",
       "          'the': 1,\n",
       "          'top': 1,\n",
       "          'up,': 2,\n",
       "          'using': 1,\n",
       "          'wake': 1,\n",
       "          'walking,': 1,\n",
       "          'wash': 1,\n",
       "          'web': 1,\n",
       "          'when': 1,\n",
       "          'while': 1,\n",
       "          'with': 1,\n",
       "          'work,': 1,\n",
       "          'worker': 1,\n",
       "          'years': 1}),\n",
       " [('I', 7), ('and', 5), ('my', 3), ('am', 3), ('of', 3)])"
      ]
     },
     "execution_count": 55,
     "metadata": {},
     "output_type": "execute_result"
    }
   ],
   "source": [
    "c, c.most_common(5)"
   ]
  },
  {
   "cell_type": "markdown",
   "metadata": {},
   "source": [
    "## defaultdict\n",
    "### init with a data type"
   ]
  },
  {
   "cell_type": "code",
   "execution_count": 25,
   "metadata": {
    "collapsed": false,
    "inputHidden": false,
    "outputHidden": false
   },
   "outputs": [
    {
     "name": "stdout",
     "output_type": "stream",
     "text": [
      "{'When': 1, 'I': 7, 'wake': 1, 'up,': 2, 'wash': 1, 'my': 3, 'face,': 1, 'dress': 1, 'eat,': 1, 'while': 1, 'am': 3, 'walking,': 1, 'driving,': 1, 'during': 1, 'the': 1, 'work,': 1, 'when': 1, 'alone,': 1, 'In': 1, 'dreams.': 1, 'Your': 1, 'face': 1, 'is': 1, 'always': 1, 'in': 2, 'front': 1, 'of': 3, 'me,': 1, 'and': 5, 'It': 1, 'never': 1, 'left': 1, 'mind.': 1, 'have': 3, 'solid': 1, 'data': 2, 'analysis': 1, 'knowledge': 1, 'years': 1, 'professional': 1, 'practice': 1, 'software': 1, 'engineering.': 1, 'My': 1, 'experience': 1, 'covers': 1, 'using': 1, 'Python,': 1, 'Swift,': 1, 'SQL,': 1, 'C#,': 1, 'R,': 1, 'other': 1, 'languages': 1, 'on': 2, 'top': 1, 'most': 1, 'popular': 1, 'frameworks.': 1, 'delivered': 1, 'several': 1, 'enterprise': 1, 'web': 1, 'applications': 1, 'business': 1, 'mobile': 1, 'apps': 1, 'app': 1, 'stores.': 1, 'a': 1, 'hard': 1, 'worker': 1, 'with': 1, 'great': 1, 'learning': 1, 'skills.': 1, 'an': 1, 'enthusiastic': 1, 'heart': 1, 'for': 1, 'science': 1, 'IT': 1, 'industries.': 1}\n"
     ]
    }
   ],
   "source": [
    "d ={}\n",
    "for w in text.split():\n",
    "   if w in d:\n",
    "       d[w]+=1\n",
    "   else:\n",
    "       d[w]=1\n",
    "print(d)"
   ]
  },
  {
   "cell_type": "code",
   "execution_count": 27,
   "metadata": {
    "collapsed": false,
    "inputHidden": false,
    "outputHidden": false
   },
   "outputs": [
    {
     "data": {
      "text/plain": [
       "defaultdict(int, {})"
      ]
     },
     "execution_count": 27,
     "metadata": {},
     "output_type": "execute_result"
    }
   ],
   "source": [
    "d =defaultdict(int)\n",
    "for w in text.split():\n",
    "   if w in d:\n",
    "       d[w]+=1\n",
    "d"
   ]
  },
  {
   "cell_type": "code",
   "execution_count": 13,
   "metadata": {},
   "outputs": [
    {
     "data": {
      "text/plain": [
       "[('blue', [2, 4, 4]), ('red', [1, 3, 1])]"
      ]
     },
     "execution_count": 13,
     "metadata": {},
     "output_type": "execute_result"
    }
   ],
   "source": [
    "s = [('red', 1), ('blue', 2), ('red', 3), ('blue', 4), ('red', 1), ('blue', 4)]\n",
    "d = defaultdict(list)\n",
    "for k, v in s:\n",
    "    d[k].append(v)\n",
    "\n",
    "sorted(d.items())\n",
    "\n",
    "#[('blue', [2, 4]), ('red', [1]), ('yellow', [1, 3])]"
   ]
  },
  {
   "cell_type": "code",
   "execution_count": 14,
   "metadata": {},
   "outputs": [
    {
     "data": {
      "text/plain": [
       "[('blue', {2, 4}), ('red', {1, 3})]"
      ]
     },
     "execution_count": 14,
     "metadata": {},
     "output_type": "execute_result"
    }
   ],
   "source": [
    "s = [('red', 1), ('blue', 2), ('red', 3), ('blue', 4), ('red', 1), ('blue', 4)]\n",
    "d = defaultdict(set)\n",
    "for k, v in s:\n",
    "    d[k].add(v)\n",
    "\n",
    "sorted(d.items())"
   ]
  },
  {
   "cell_type": "code",
   "execution_count": 28,
   "metadata": {
    "collapsed": false,
    "inputHidden": false,
    "outputHidden": false
   },
   "outputs": [
    {
     "data": {
      "text/plain": [
       "[('blue', 10), ('red', 5)]"
      ]
     },
     "execution_count": 28,
     "metadata": {},
     "output_type": "execute_result"
    }
   ],
   "source": [
    "s = [('red', 1), ('blue', 2), ('red', 3), ('blue', 4), ('red', 1), ('blue', 4)]\n",
    "d = defaultdict(int)\n",
    "for k, v in s:\n",
    "    d[k]+=v\n",
    "\n",
    "sorted(d.items())"
   ]
  },
  {
   "cell_type": "markdown",
   "metadata": {},
   "source": [
    "# Section II Linkedlist"
   ]
  },
  {
   "cell_type": "markdown",
   "metadata": {},
   "source": [
    "## Linkedlist DEF"
   ]
  },
  {
   "cell_type": "code",
   "execution_count": 1,
   "metadata": {
    "collapsed": false,
    "inputHidden": false,
    "outputHidden": false
   },
   "outputs": [
    {
     "data": {
      "text/plain": [
       "[9, 8, 7, 6, 4, 3, 2, 1]"
      ]
     },
     "execution_count": 1,
     "metadata": {},
     "output_type": "execute_result"
    }
   ],
   "source": [
    "a=[9,8,7,6,5,4,3,2,1]\n",
    "a[:4]+a[5:]"
   ]
  },
  {
   "cell_type": "code",
   "execution_count": 23,
   "metadata": {
    "collapsed": false,
    "inputHidden": false,
    "outputHidden": false
   },
   "outputs": [
    {
     "name": "stdout",
     "output_type": "stream",
     "text": [
      "  next func start 1\n",
      "    next func start 3\n",
      "      next func start 5\n",
      "        next func start 7\n",
      "        next func done 7\n",
      "      next func done 5\n",
      "    next func done 3\n",
      "  next func done 1\n"
     ]
    }
   ],
   "source": [
    "#Definition for singly-linked node.\n",
    "class ListNode(object):\n",
    "    def __init__(self, x):\n",
    "        self.val = x\n",
    "        self.next = None\n",
    "        \n",
    "obj = ListNode(1)\n",
    "\n",
    "obj2 = ListNode(3)\n",
    "obj.next = obj2\n",
    "\n",
    "obj3 = ListNode(5)\n",
    "obj2.next = obj3\n",
    "\n",
    "obj4 = ListNode(7)\n",
    "obj3.next = obj4\n",
    "\n",
    "# therefor the list is \n",
    "lst = obj\n",
    "\n",
    "#print_llist(lst)\n",
    "\n",
    "def print_list2(lst):\n",
    "    if lst is not None:\n",
    "        print(\" \"*lst.val, \"next func start\", lst.val)\n",
    "        print_list2(lst.next)\n",
    "        #print(lst.val)\n",
    "        print(\" \"*lst.val, \"next func done\", lst.val, )\n",
    "        \n",
    "        \n",
    "print_list2(lst)"
   ]
  },
  {
   "cell_type": "code",
   "execution_count": 5,
   "metadata": {},
   "outputs": [],
   "source": [
    "#Definition for singly-linked node.\n",
    "class ListNode(object):\n",
    "    def __init__(self, x):\n",
    "        self.val = x\n",
    "        self.next = None\n",
    "\n",
    "#Definition for double-linked node\n",
    "class DoubleListNode(object):\n",
    "    def __init__(self, x):\n",
    "        self.val = x\n",
    "        self.pre = None\n",
    "        self.next = None\n",
    "\n",
    "# print list\n",
    "def print_llist(p):\n",
    "    while p is not None:\n",
    "        print(p.val)\n",
    "        p=p.next"
   ]
  },
  {
   "cell_type": "code",
   "execution_count": 4,
   "metadata": {},
   "outputs": [
    {
     "name": "stdout",
     "output_type": "stream",
     "text": [
      "10\n",
      "12\n",
      "15\n",
      "25\n",
      "30\n",
      "36\n"
     ]
    }
   ],
   "source": [
    "# create a list and print it  10->12->15->25->30->36\n",
    "a_list = ListNode(10)\n",
    "a_list.next = ListNode(12)\n",
    "a_list.next.next = ListNode(15)\n",
    "a_list.next.next.next = ListNode(25)\n",
    "a_list.next.next.next.next = ListNode(30)\n",
    "a_list.next.next.next.next.next = ListNode(36)\n",
    "\n",
    "print_llist(a_list)"
   ]
  },
  {
   "cell_type": "code",
   "execution_count": 5,
   "metadata": {},
   "outputs": [
    {
     "name": "stdout",
     "output_type": "stream",
     "text": [
      "10\n",
      "12\n",
      "15\n",
      "15\n",
      "30\n",
      "36\n",
      "15\n"
     ]
    }
   ],
   "source": [
    "b_list= ListNode(-1)\n",
    "p = b_list\n",
    "for v in [10,12,15,15,30,36,15]:\n",
    "    p.next = ListNode(v)\n",
    "    p = p.next\n",
    "b_list= b_list.next  \n",
    "\n",
    "print_llist(b_list)"
   ]
  },
  {
   "cell_type": "markdown",
   "metadata": {},
   "source": [
    "## Remove duplicate"
   ]
  },
  {
   "cell_type": "code",
   "execution_count": 6,
   "metadata": {
    "collapsed": false,
    "inputHidden": false,
    "outputHidden": false
   },
   "outputs": [],
   "source": [
    "def deleteDuplicates(head):\n",
    "    \"\"\"\n",
    "    :type head: ListNode\n",
    "    :rtype: ListNode\n",
    "    \"\"\"\n",
    "    p = head\n",
    "    while p:\n",
    "        while p.next is not None and p.next.val==p.val:\n",
    "            p.next=p.next.next\n",
    "        p=p.next\n",
    "    return head\n",
    "\n",
    "def deleteDuplicates2(head):\n",
    "    \"\"\"\n",
    "    :type head: ListNode\n",
    "    :rtype: ListNode\n",
    "    \"\"\"\n",
    "    root = head\n",
    "    if root is None or root.next is None:\n",
    "        return root\n",
    "    while root.next:\n",
    "        if root.next.val == root.val:\n",
    "            root.next = root.next.next\n",
    "        else:\n",
    "            root = root.next\n",
    "    return head"
   ]
  },
  {
   "cell_type": "code",
   "execution_count": 7,
   "metadata": {
    "collapsed": false,
    "inputHidden": false,
    "outputHidden": false
   },
   "outputs": [
    {
     "name": "stdout",
     "output_type": "stream",
     "text": [
      "10\n",
      "12\n",
      "15\n",
      "30\n",
      "36\n",
      "15\n"
     ]
    }
   ],
   "source": [
    "ans = deleteDuplicates2(b_list)\n",
    "print_llist(ans)"
   ]
  },
  {
   "cell_type": "markdown",
   "metadata": {},
   "source": [
    "# Section III Tree"
   ]
  },
  {
   "cell_type": "markdown",
   "metadata": {},
   "source": [
    "## Tree Def"
   ]
  },
  {
   "cell_type": "code",
   "execution_count": 8,
   "metadata": {},
   "outputs": [],
   "source": [
    "# Definition for a binary tree node.\n",
    "class TreeNode(object):\n",
    "    def __init__(self, x):\n",
    "        self.val = x\n",
    "        self.left = None\n",
    "        self.right = None"
   ]
  },
  {
   "cell_type": "code",
   "execution_count": 9,
   "metadata": {},
   "outputs": [],
   "source": [
    "# creating a tree\n",
    "root = TreeNode(2)\n",
    "root.left = TreeNode(3)\n",
    "root.right= TreeNode(4)"
   ]
  },
  {
   "cell_type": "code",
   "execution_count": 78,
   "metadata": {},
   "outputs": [],
   "source": [
    "# print the tree"
   ]
  },
  {
   "cell_type": "code",
   "execution_count": 6,
   "metadata": {},
   "outputs": [],
   "source": [
    "# Call it self"
   ]
  },
  {
   "cell_type": "code",
   "execution_count": 5,
   "metadata": {},
   "outputs": [
    {
     "name": "stdout",
     "output_type": "stream",
     "text": [
      "1\n",
      "3\n",
      "5\n",
      "7\n",
      "9\n",
      "11\n",
      "13\n"
     ]
    }
   ],
   "source": [
    "#Definition for singly-linked list.\n",
    "class ListNode(object):\n",
    "    def __init__(self, x):\n",
    "        self.val = x\n",
    "        self.next = None\n",
    "        \n",
    "obj = ListNode(1)\n",
    "obj2 = ListNode(3)\n",
    "obj.next = obj2\n",
    "obj3 = ListNode(5)\n",
    "obj2.next = obj3\n",
    "obj4 = ListNode(7)\n",
    "obj3.next = obj4\n",
    "obj5 = ListNode(9)\n",
    "obj4.next = obj5\n",
    "obj6 = ListNode(11)\n",
    "obj5.next = obj6\n",
    "obj7 = ListNode(13)\n",
    "obj6.next = obj7\n",
    "lst = obj\n",
    "\n",
    "def print_list(p):\n",
    "    while p is not None:\n",
    "        print(p.val)\n",
    "        p = p.next\n",
    "        #if p is not None:\n",
    "            #p = p.next\n",
    "\n",
    "def print_list2(p):\n",
    "    if p is not None:\n",
    "        print(p.val)\n",
    "        print_list2(p.next)\n",
    "\n",
    "print_list2(lst)"
   ]
  },
  {
   "cell_type": "code",
   "execution_count": 10,
   "metadata": {},
   "outputs": [
    {
     "name": "stdout",
     "output_type": "stream",
     "text": [
      "1\n",
      "3\n",
      "5\n",
      "7\n",
      "11\n",
      "13\n"
     ]
    }
   ],
   "source": [
    "\n",
    "\n",
    "\n",
    "def remove_duplicates(p):\n",
    "    while p is not None:\n",
    "        print(p.val)\n",
    "        if p.next is not None and p.val == p.next.val:\n",
    "            p = p.next.next\n",
    "        else:\n",
    "            p = p.next\n",
    "            \n",
    "remove_duplicates(obj)"
   ]
  },
  {
   "cell_type": "code",
   "execution_count": 18,
   "metadata": {},
   "outputs": [
    {
     "name": "stdout",
     "output_type": "stream",
     "text": [
      "1\n",
      "3\n",
      "5\n",
      "13\n"
     ]
    }
   ],
   "source": [
    "obj = ListNode(1)\n",
    "obj2 = ListNode(3)\n",
    "obj.next = obj2\n",
    "obj3 = ListNode(5)\n",
    "obj2.next = obj3\n",
    "obj4 = ListNode(5)\n",
    "obj3.next = obj4\n",
    "obj5 = ListNode(5)\n",
    "obj4.next = obj5\n",
    "obj6 = ListNode(11)\n",
    "obj5.next = obj6\n",
    "obj7 = ListNode(13)\n",
    "obj6.next = obj7\n",
    "\n",
    "def removeDupes(node):\n",
    "   p = node.next\n",
    "   s = set()\n",
    "   while node != None:\n",
    "       if p.val in s and p.next == None:\n",
    "           break\n",
    "       elif p.val not in s and p.next == None:\n",
    "           print(p.val)\n",
    "           s.add(p.val)\n",
    "           break\n",
    "       elif p.val in s:\n",
    "           node = p.next\n",
    "           p = node.next\n",
    "       elif node.val in s:\n",
    "           node = node.next\n",
    "           p = node.next\n",
    "       else:\n",
    "           print(node.val)\n",
    "           s.add(node.val)\n",
    "           node = node.next\n",
    "           p = node.next\n",
    "           \n",
    "removeDupes(obj)"
   ]
  },
  {
   "cell_type": "code",
   "execution_count": 15,
   "metadata": {},
   "outputs": [],
   "source": [
    "obj = ListNode(1)\n",
    "obj2 = ListNode(3)\n",
    "obj.next = obj2\n",
    "obj3 = ListNode(5)\n",
    "obj2.next = obj3\n",
    "obj4 = ListNode(5)\n",
    "obj3.next = obj4\n",
    "obj5 = ListNode(5)\n",
    "obj4.next = obj5\n",
    "obj6 = ListNode(11)\n",
    "obj5.next = obj6\n",
    "obj7 = ListNode(13)\n",
    "obj6.next = obj7\n",
    "\n",
    "def deleteDuplicates2(head):\n",
    "    \"\"\"\n",
    "    :type head: ListNode\n",
    "    :rtype: ListNode\n",
    "    \"\"\"\n",
    "    root = head\n",
    "    if root is None or root.next is None:\n",
    "        return root\n",
    "    while root.next:\n",
    "        if root.next.val == root.val:\n",
    "            root.next = root.next.next\n",
    "        else:\n",
    "            root = root.next\n",
    "    return head"
   ]
  },
  {
   "cell_type": "code",
   "execution_count": 17,
   "metadata": {},
   "outputs": [
    {
     "name": "stdout",
     "output_type": "stream",
     "text": [
      "1\n",
      "3\n",
      "5\n",
      "11\n",
      "13\n"
     ]
    }
   ],
   "source": [
    "deleteDuplicates2(obj)\n",
    "print_list2(obj)"
   ]
  },
  {
   "cell_type": "code",
   "execution_count": null,
   "metadata": {},
   "outputs": [],
   "source": []
  }
 ],
 "metadata": {
  "kernel_info": {
   "name": "python3"
  },
  "kernelspec": {
   "display_name": "Python 3",
   "language": "python",
   "name": "python3"
  },
  "language_info": {
   "codemirror_mode": {
    "name": "ipython",
    "version": 3
   },
   "file_extension": ".py",
   "mimetype": "text/x-python",
   "name": "python",
   "nbconvert_exporter": "python",
   "pygments_lexer": "ipython3",
   "version": "3.6.4"
  },
  "nteract": {
   "version": "0.8.3"
  }
 },
 "nbformat": 4,
 "nbformat_minor": 2
}
